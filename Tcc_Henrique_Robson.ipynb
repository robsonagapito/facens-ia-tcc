{
 "cells": [
  {
   "cell_type": "markdown",
   "id": "bc8efd44",
   "metadata": {},
   "source": [
    "### PREVISÃO EM UM SISTEMA DE VENDAS COMERCIAL A PARTIR DE ALGORITMOS DE INTELIGÊNCIA ARTIFICIAL\n",
    "\n",
    "### FORECAST IN A COMMERCIAL SALES SYSTEM BASED ON ARTIFICIAL INTELLIGENCE ALGORITHMS "
   ]
  },
  {
   "cell_type": "markdown",
   "id": "93202dbd",
   "metadata": {},
   "source": [
    "### Integrantes:\n",
    "\n",
    "### Henrique Seschin Neto RA: 202083\n",
    "### Robson Agapito Correa RA: 202062\n",
    "\n",
    "#### seschin_eletronic@hotmail.com, robsonagapito@gmail.com"
   ]
  },
  {
   "cell_type": "markdown",
   "id": "47a39a20",
   "metadata": {},
   "source": [
    "### Bibliotecas"
   ]
  },
  {
   "cell_type": "code",
   "execution_count": 1,
   "id": "50be383b",
   "metadata": {},
   "outputs": [
    {
     "name": "stderr",
     "output_type": "stream",
     "text": [
      "C:\\Users\\sesch\\AppData\\Roaming\\Python\\Python39\\site-packages\\xgboost\\compat.py:36: FutureWarning: pandas.Int64Index is deprecated and will be removed from pandas in a future version. Use pandas.Index with the appropriate dtype instead.\n",
      "  from pandas import MultiIndex, Int64Index\n"
     ]
    }
   ],
   "source": [
    "import numpy as np \n",
    "import pandas as pd\n",
    "import sklearn \n",
    "import graphviz\n",
    "from sklearn import tree\n",
    "import matplotlib.pyplot as plt\n",
    "from sklearn.ensemble import RandomForestClassifier\n",
    "import xgboost as xgb\n",
    "from sklearn.ensemble import GradientBoostingClassifier\n",
    "from sklearn.preprocessing import OrdinalEncoder\n",
    "from sklearn.preprocessing import OneHotEncoder\n",
    "from sklearn.metrics import classification_report\n",
    "from sklearn.metrics import accuracy_score\n",
    "from sklearn.metrics import f1_score\n",
    "from sklearn.metrics import confusion_matrix\n",
    "from sklearn.model_selection import RandomizedSearchCV\n",
    "from sklearn.model_selection import GridSearchCV\n",
    "from sklearn.model_selection import train_test_split\n",
    "from sklearn.ensemble import GradientBoostingClassifier\n",
    "import xgboost as xgb\n",
    "import lightgbm as lgb\n",
    "from sklearn.ensemble import RandomForestClassifier\n",
    "from catboost import CatBoostClassifier\n",
    "from sklearn.neighbors import KNeighborsClassifier\n",
    "import seaborn as sns\n",
    "import matplotlib.pyplot as plt\n",
    "sns.set_theme(style=\"ticks\", color_codes=True)\n",
    "from sklearn.metrics import confusion_matrix, precision_score, recall_score, f1_score, cohen_kappa_score\n",
    "from keras.models import Sequential\n",
    "from keras.layers import Dense\n",
    "from keras.wrappers.scikit_learn import KerasRegressor\n",
    "from sklearn.preprocessing import StandardScaler\n",
    "from sklearn.pipeline import Pipeline\n",
    "import tensorflow as tf\n",
    "from tensorflow import keras\n",
    "from tensorflow.keras import layers\n",
    "import tensorflow as tf\n",
    "from tensorflow import keras\n",
    "from tensorflow.keras import layers\n",
    "from tensorflow.keras.layers.experimental import preprocessing\n",
    "import numpy as np\n",
    "np.random.seed(1)\n",
    "import tensorflow as tf\n",
    "tf.random.set_seed(1)\n",
    "import matplotlib.pyplot as plt\n",
    "from matplotlib import rcParams\n",
    "from datetime import date\n",
    "import datetime\n",
    "import imblearn\n",
    "import warnings\n",
    "import matplotlib.dates as mdates\n",
    "from sklearn.decomposition import PCA\n",
    "\n",
    "warnings.simplefilter(action='ignore', category=FutureWarning)\n",
    "# definindo a semente para o numpy:\n",
    "np.random.seed(42)"
   ]
  },
  {
   "cell_type": "code",
   "execution_count": 2,
   "id": "f145f26f",
   "metadata": {},
   "outputs": [],
   "source": [
    "file_base_name = \"BaseTCC.txt\""
   ]
  },
  {
   "cell_type": "code",
   "execution_count": 3,
   "id": "20ceb757",
   "metadata": {},
   "outputs": [],
   "source": [
    "# ALTERAR TABULAÇOES POR PIPE\n",
    "def update_tab(file):\n",
    "    reading_file = open(file, \"r\")\n",
    "\n",
    "    new_file_content = \"\"\n",
    "    for line in reading_file:\n",
    "        stripped_line = line.strip()\n",
    "        new_line = stripped_line.replace(\"\t\", \"|\")\n",
    "        new_file_content += new_line +\"\\n\"\n",
    "    reading_file.close()\n",
    "\n",
    "    writing_file = open(file_base_name, \"w\")\n",
    "    writing_file.write(new_file_content)\n",
    "    writing_file.close()"
   ]
  },
  {
   "cell_type": "code",
   "execution_count": 4,
   "id": "f4f9d910",
   "metadata": {
    "scrolled": true
   },
   "outputs": [],
   "source": [
    "#Carregando a Base de Dados Atual\n",
    "update_tab(\"BaseAnjos_2022_05_01.tsv\")"
   ]
  },
  {
   "cell_type": "code",
   "execution_count": 5,
   "id": "ed3f39d2",
   "metadata": {
    "scrolled": true
   },
   "outputs": [
    {
     "name": "stdout",
     "output_type": "stream",
     "text": [
      "codigo\n",
      "nome\n",
      "celular\n",
      "sexo\n",
      "produto01\n",
      "produto02\n",
      "produto03\n",
      "vendeu\n",
      "hora\n",
      "tipo\n",
      "como conheceu\n",
      "melhorias\n",
      "observacao\n",
      "data\n",
      "consultor\n",
      "id_consultor\n",
      "retorno\n",
      "status\n",
      "id_jira\n",
      "id_item\n",
      "orcamento\n",
      "valor_orcamento\n"
     ]
    }
   ],
   "source": [
    "# criando o dataframe do csv gerado\n",
    "df = pd.read_csv(file_base_name, sep='|')\n",
    "\n",
    "for col in df.columns:\n",
    "    print(col)"
   ]
  },
  {
   "cell_type": "markdown",
   "id": "6451b8de",
   "metadata": {},
   "source": [
    "### Funcões de limpeza e tratamento da base de dados"
   ]
  },
  {
   "cell_type": "code",
   "execution_count": 6,
   "id": "42b9269b",
   "metadata": {},
   "outputs": [],
   "source": [
    "# dropando as colunas\n",
    "def drop_columns():\n",
    "    df.drop('id_consultor',axis = 1, inplace = True)\n",
    "    df.drop('nome',axis = 1, inplace = True)\n",
    "    df.drop('id_jira',axis = 1, inplace = True)\n",
    "    df.drop('id_item',axis = 1, inplace = True)\n",
    "    df.drop('valor_orcamento',axis = 1, inplace = True)\n",
    "\n",
    "    \n",
    "# mudando os nomes das colunas\n",
    "def change_name_columns():\n",
    "    df.rename(columns={\"Produto Desejado\":\"produtos\", \"Efetivou a venda?\": \"vendeu\",\"Hora da chegada do cliente\":\"hora\"}, inplace = True)\n",
    "    df.rename(columns={\"Tipo do Atendimento\":\"tipo\", \"Como conheceu a Loja?\":\"como_conheceu\", \"Como podemos melhorar o nosso fechamento? Tivemos alguma falha?\":\"melhorias\" }, inplace = True)\n",
    "    df.rename(columns={\"Alguma observação final?\":\"observacao\", \"Data\":\"data\", \"Consultor de Vendas\":\"consultor\"}, inplace = True)\n",
    "    df.rename(columns={\"Contato foi um retorno de atendimento anterior\": \"retorno\"}, inplace = True)\n",
    "    df.rename(columns={\"Celular\":\"celular\",\"Sexo\":\"sexo\"}, inplace=True)\n",
    "    \n",
    "# mudando todos os dados de NaN para alguma informação específica.    \n",
    "def transform_nan():\n",
    "    df['celular'] = df['celular'].fillna('15000000000')\n",
    "    df['tipo'] = df['tipo'].fillna('Presencial')\n",
    "    df['melhorias'] = df['melhorias'].fillna('sem melhoria')\n",
    "    df['observacao'] = df['observacao'].fillna('sem observacao')\n",
    "    df['retorno'] = df['retorno'].fillna('Não') \n",
    "    df['como conheceu'] = df['como conheceu'].fillna('passagem frente da loja')  \n",
    "    df['sexo'] = df['sexo'].fillna('casal')\n",
    "    df['produto01'] = df['produto01'].fillna('vazio')\n",
    "    df['produto02'] = df['produto02'].fillna('vazio')                                       \n",
    "    df['produto03'] = df['produto03'].fillna('vazio')                                       \n",
    "    df['vendeu'] = df['vendeu'].fillna('nao')\n",
    "    df['hora'] = df['hora'].fillna('20')\n",
    "    df['data'] = df['data'].fillna('01/02/2022')\n",
    "    df['status'] = df['status'].fillna('sem status')\n",
    "    df['orcamento'] = df['orcamento'].fillna('nao')\n",
    "\n",
    "def update_phone(dataf):\n",
    "    # retirando os traços da coluna celular:\n",
    "    dataf['celular'] = dataf['celular'].str.replace('-','')\n",
    "    # retirando os parenteses duplos da coluna celular:\n",
    "    dataf['celular'] = dataf['celular'].str.replace('()','',regex=True)\n",
    "    # retirando os parenteses simples da coluna celular:\n",
    "    dataf['celular'] = dataf['celular'].str.replace('(','',regex=True)\n",
    "    dataf['celular'] = dataf['celular'].str.replace(')','',regex=True)\n",
    "    # retirando o + da coluna celular:\n",
    "    dataf['celular'] = dataf['celular'].str.replace('+','1',regex=True)\n",
    "    # retirando a sibala 'Nã' da coluna celular e substituindo por ddd 15:\n",
    "    dataf['celular'] = dataf['celular'].str.replace('Nã','15',regex=True)\n",
    "    dataf['celular'] = dataf['celular'].str.replace(' ','',regex=True)\n",
    "    return dataf\n",
    "      \n",
    "def ajusta_produtos(name):\n",
    "    # deixando a coluna produtos tudo em minúsculo\n",
    "    df[name] = df[name].str.lower()\n",
    "    # retirando o 'á' e substituindo por a:\n",
    "    df[name] = df[name].str.replace('á','a')\n",
    "    # retirando o \"~\" da coluna produtos:\n",
    "    df[name] = df[name].str.replace('ã','a')\n",
    "    # retirando a virgula da coluna produtos e inserido \"e\":\n",
    "    df[name] = df[name].str.replace(', ',';')\n",
    "       \n",
    "# removendo e corrigindo os caracteres indesejados das colunas do dataset:\n",
    "def remove_character():\n",
    "    # deixando apenas os dois primeiros digitos da coluna celular:\n",
    "    df['ddd'] = df['celular'].str[:2]\n",
    "    # deixando a coluna sexo tudo em minúsculo\n",
    "    df['sexo'] = df['sexo'].str.lower()\n",
    "    # ajustando as colunas de produtos\n",
    "    ajusta_produtos('produto01')\n",
    "    ajusta_produtos('produto02')\n",
    "    ajusta_produtos('produto03') \n",
    "    # padronização do campo vendeu:\n",
    "    df['vendeu'] = df['vendeu'].str.replace('Finalizado com Venda','sim')\n",
    "    df['vendeu'] = df['vendeu'].str.replace('Finalizado COM Resposta','nao')\n",
    "    df['vendeu'] = df['vendeu'].str.replace('Finalizado SEM Resposta','nao')   \n",
    "    # retirando o \"~\" da coluna vendeu:\n",
    "    df['vendeu'] = df['vendeu'].str.replace('ã','a')\n",
    "    # deixando a coluna vendeu tudo em minúsculo\n",
    "    df['vendeu'] = df['vendeu'].str.lower()\n",
    "    # passando de texto para número na coluna vendeu:\n",
    "    df['vendeu'] = df['vendeu'].str.replace('nao','0.0')\n",
    "    df['vendeu'] = df['vendeu'].str.replace('sim','1.0')\n",
    "    # deixando a coluna tipo tudo em minúsculo\n",
    "    df['tipo'] = df['tipo'].str.lower()\n",
    "    # retirando a frase do campo tipo e substituindo para presencial\n",
    "    df['tipo'] = df['tipo'].str.replace('cliente veio na loja e depois mantive contato por whats app','presencial')\n",
    "    # deixando a coluna como conheceu tudo em minúsculo\n",
    "    df['como conheceu'] = df['como conheceu'].str.lower()\n",
    "    # retirando o ponto final da frase, na coluna como conheceu\n",
    "    df['como conheceu'] = df['como conheceu'].str.replace('.','',regex=True)\n",
    "    # juntando as classes parecidas na coluna como conheceu\n",
    "    df['como conheceu'] = df['como conheceu'].str.replace('estava passando e viu a loja e entrou pra conheçer','passagem frente da loja',regex=True)\n",
    "    # arrumando a frase do campo conheceu\n",
    "    df['como conheceu'] = df['como conheceu'].str.replace('e já tem produtos da anjos colchoes','ja possui produtos anjos colchoes',regex=True)\n",
    "    # retirando o \"~\" da coluna como conheceu:\n",
    "    df['como conheceu'] = df['como conheceu'].str.replace('ã','a')\n",
    "    # arrumando a frase da coluna conheceu\n",
    "    df['como conheceu'] = df['como conheceu'].str.replace('consulta google','google')\n",
    "    # removendo a hora do campo data.   \n",
    "    df['data'] = df['data'].str.replace('00:00','')\n",
    "    # deixando a coluna melhorias tudo em minúsculo\n",
    "    df['melhorias'] = df['melhorias'].str.lower()\n",
    "    # deixando a coluna observacao tudo em minúsculo\n",
    "    df['observacao'] = df['observacao'].str.lower()\n",
    "    # deixando a coluna consultor tudo em minúsculo\n",
    "    df['consultor'] = df['consultor'].str.lower()\n",
    "    # retirando o \"´\" da coluna consultor:\n",
    "    df['consultor'] = df['consultor'].str.replace('janaína','janaina')\n",
    "    # arrumando os nomes da coluna consultor:\n",
    "    df['consultor'] = df['consultor'].str.replace('ari jacinto neto','ari')\n",
    "    df['consultor'] = df['consultor'].str.replace('jean felipe rodrigues ribeiro','jean')\n",
    "    # retirando o \"~\" da coluna retorno\n",
    "    df['retorno'] = df['retorno'].str.replace('ã','a')\n",
    "    # deixando a coluna retorno tudo em minúsculo\n",
    "    df['retorno'] = df['retorno'].str.lower()\n",
    "    # ajuste de hora\n",
    "    df['hora'] = df['hora'].str.replace('Depois das 19h','20')\n",
    "    df['hora'] = df['hora'].str.replace('Antes das 9h','8')\n",
    "    #ajuste do orcamento, se existiu ou não\n",
    "    df['orcamento'] = np.where(df['orcamento']!='nao', 'sim', 'nao')\n",
    "    #ajustando as colunas produtos\n",
    "    df['produto01'] = df['produto01'].str.replace('colchao intermediario','colchao')\n",
    "    df['produto01'] = df['produto01'].str.replace('colchao macio','colchao')\n",
    "    df['produto01'] = df['produto01'].str.replace('colchao firme','colchao')\n",
    "    df['produto02'] = df['produto02'].str.replace('colchao intermediario','colchao')\n",
    "    df['produto02'] = df['produto02'].str.replace('colchao macio','colchao')\n",
    "    df['produto02'] = df['produto02'].str.replace('colchao firme','colchao')\n",
    "    df['produto03'] = df['produto03'].str.replace('colchao intermediario','colchao')\n",
    "    df['produto03'] = df['produto03'].str.replace('colchao macio','colchao')\n",
    "    df['produto03'] = df['produto03'].str.replace('colchao firme','colchao')"
   ]
  },
  {
   "cell_type": "code",
   "execution_count": 7,
   "id": "8c995f45",
   "metadata": {},
   "outputs": [],
   "source": [
    "#dropando as colunas indesejadas\n",
    "drop_columns()   \n",
    "#mudando os nomes\n",
    "change_name_columns()\n",
    "#tirando os nan\n",
    "transform_nan()\n",
    "#padroniza numeros de telefones\n",
    "df = update_phone(df)\n",
    "#removendo os caracteres indesejados\n",
    "remove_character()"
   ]
  },
  {
   "cell_type": "markdown",
   "id": "eea4db79",
   "metadata": {},
   "source": [
    "### Tratando as colunas produtos, transformando-as apenas em uma única coluna \"Produtos\""
   ]
  },
  {
   "cell_type": "code",
   "execution_count": 8,
   "id": "d0dd50c6",
   "metadata": {},
   "outputs": [],
   "source": [
    "#tratando as colunas produtos, tornando apenas 1 coluna, concatenando as colunas produtos\n",
    "produtos_final = np.concatenate((df['produto01'], df['produto02'], df['produto03']))\n",
    "f = pd.DataFrame(produtos_final, columns = ['produto'])\n",
    "array_produto = f['produto'].unique()\n",
    "array_valor = np.zeros(len(array_produto))\n",
    "df_prod = pd.DataFrame(array_valor, array_produto)\n",
    "df_prod = df_prod.transpose()\n",
    "resultado = pd.concat([df,df_prod],axis=1)\n",
    "\n",
    "array_column = list(resultado.columns)\n",
    "array_value = np.zeros(len(array_column))\n",
    "df_final = pd.DataFrame(array_value, array_column)\n",
    "df_final = df_final.transpose()\n",
    "resFor = resultado\n",
    "resFor = resFor.fillna(0)\n",
    "\n",
    "#criando um dataset apenas de produtos e unindo com o dataset final\n",
    "for index,row in resFor.iterrows():\n",
    "    coluna = row['produto01']\n",
    "    row[coluna] = 1\n",
    "    coluna = row['produto02']\n",
    "    row[coluna] = 1\n",
    "    coluna = row['produto03']\n",
    "    row[coluna] = 1\n",
    "    df_final = df_final.append(row, ignore_index=True)\n",
    "\n",
    "#dropando as colunas de produtos01,02,03 e vazio\n",
    "df_final = df_final.drop(labels=0, axis=0)\n",
    "df_final = df_final.drop(labels=[\"produto01\", \"produto02\",\"produto03\",\"vazio\"], axis=1)\n",
    "df = df_final"
   ]
  },
  {
   "cell_type": "code",
   "execution_count": 9,
   "id": "5624a001",
   "metadata": {
    "scrolled": true
   },
   "outputs": [
    {
     "data": {
      "text/plain": [
       "['codigo',\n",
       " 'celular',\n",
       " 'sexo',\n",
       " 'vendeu',\n",
       " 'hora',\n",
       " 'tipo',\n",
       " 'como conheceu',\n",
       " 'melhorias',\n",
       " 'observacao',\n",
       " 'data',\n",
       " 'consultor',\n",
       " 'retorno',\n",
       " 'status',\n",
       " 'orcamento',\n",
       " 'ddd',\n",
       " 'colchao',\n",
       " 'estofado',\n",
       " 'box',\n",
       " 'travesseiro',\n",
       " 'mesa de cabeceira',\n",
       " 'cama madeira',\n",
       " 'cabeceira',\n",
       " 'poltrona',\n",
       " 'base baú',\n",
       " 'tapete',\n",
       " 'roupa de cama',\n",
       " 'criado',\n",
       " 'cabeceira ',\n",
       " 'pillowtop',\n",
       " 'auxiliar de molas',\n",
       " 'sofa cama',\n",
       " 'puff ',\n",
       " 'encosto e rampa',\n",
       " 'base bau',\n",
       " 'base',\n",
       " 'quadro',\n",
       " 'recamier',\n",
       " 'protetor',\n",
       " 'bom baú',\n",
       " 'materia prima',\n",
       " 'poltrona pet',\n",
       " 'box baú',\n",
       " 'protetor travesseiro',\n",
       " 'protetor colchao',\n",
       " 'decoraçao',\n",
       " 'amofadas',\n",
       " 'bicama',\n",
       " 'pillow']"
      ]
     },
     "execution_count": 9,
     "metadata": {},
     "output_type": "execute_result"
    }
   ],
   "source": [
    "#listando as colunas do dataset \n",
    "list(df.columns)"
   ]
  },
  {
   "cell_type": "markdown",
   "id": "e7043937",
   "metadata": {},
   "source": [
    "### Convertendo e tratando a classe \"data\" para \"dia_semana\" e \"ano_mes\""
   ]
  },
  {
   "cell_type": "code",
   "execution_count": 10,
   "id": "e8c3a876",
   "metadata": {},
   "outputs": [],
   "source": [
    "# covertendo para datetime\n",
    "df['data'] = pd.to_datetime(df['data'], format=\"%d/%m/%Y\")\n",
    "# criando a coluna dia semana e chamando o dia da semana por 1 a 7\n",
    "df['dia_semana'] = df['data'].apply(date.isoweekday)\n",
    "#mudando o nome de cada dia da semana de 1 a 7 , pelo nome dos dias da semana\n",
    "df['dia_semana'] = df['dia_semana'].replace(1,'segunda-feira')\n",
    "df['dia_semana'] = df['dia_semana'].replace(2,'terça-feira')\n",
    "df['dia_semana'] = df['dia_semana'].replace(3,'quarta-feira')\n",
    "df['dia_semana'] = df['dia_semana'].replace(4,'quinta-feira')\n",
    "df['dia_semana'] = df['dia_semana'].replace(5,'sexta-feira')\n",
    "df['dia_semana'] = df['dia_semana'].replace(6,'sabado')\n",
    "df['dia_semana'] = df['dia_semana'].replace(7,'domingo')\n",
    "#criando a coluna mes ano, com o número do mes do ano\n",
    "df['ano_mes'] = pd.DatetimeIndex(df['data']).year.astype(str) + '_'+  pd.DatetimeIndex(df['data']).month.astype(str).str.zfill(2)"
   ]
  },
  {
   "cell_type": "code",
   "execution_count": 11,
   "id": "1406a1bf",
   "metadata": {
    "scrolled": true
   },
   "outputs": [
    {
     "data": {
      "text/html": [
       "<div>\n",
       "<style scoped>\n",
       "    .dataframe tbody tr th:only-of-type {\n",
       "        vertical-align: middle;\n",
       "    }\n",
       "\n",
       "    .dataframe tbody tr th {\n",
       "        vertical-align: top;\n",
       "    }\n",
       "\n",
       "    .dataframe thead th {\n",
       "        text-align: right;\n",
       "    }\n",
       "</style>\n",
       "<table border=\"1\" class=\"dataframe\">\n",
       "  <thead>\n",
       "    <tr style=\"text-align: right;\">\n",
       "      <th></th>\n",
       "      <th>codigo</th>\n",
       "      <th>celular</th>\n",
       "      <th>sexo</th>\n",
       "      <th>vendeu</th>\n",
       "      <th>hora</th>\n",
       "      <th>tipo</th>\n",
       "      <th>como conheceu</th>\n",
       "      <th>melhorias</th>\n",
       "      <th>observacao</th>\n",
       "      <th>data</th>\n",
       "      <th>...</th>\n",
       "      <th>poltrona pet</th>\n",
       "      <th>box baú</th>\n",
       "      <th>protetor travesseiro</th>\n",
       "      <th>protetor colchao</th>\n",
       "      <th>decoraçao</th>\n",
       "      <th>amofadas</th>\n",
       "      <th>bicama</th>\n",
       "      <th>pillow</th>\n",
       "      <th>dia_semana</th>\n",
       "      <th>ano_mes</th>\n",
       "    </tr>\n",
       "  </thead>\n",
       "  <tbody>\n",
       "    <tr>\n",
       "      <th>1</th>\n",
       "      <td>1.0</td>\n",
       "      <td>15000000000</td>\n",
       "      <td>feminino</td>\n",
       "      <td>0.0</td>\n",
       "      <td>10</td>\n",
       "      <td>presencial</td>\n",
       "      <td>loja</td>\n",
       "      <td>cliente entrou para conhecer a loja. comentou ...</td>\n",
       "      <td>sem observacao</td>\n",
       "      <td>2021-11-01</td>\n",
       "      <td>...</td>\n",
       "      <td>0.0</td>\n",
       "      <td>0.0</td>\n",
       "      <td>0.0</td>\n",
       "      <td>0.0</td>\n",
       "      <td>0.0</td>\n",
       "      <td>0.0</td>\n",
       "      <td>0.0</td>\n",
       "      <td>0.0</td>\n",
       "      <td>segunda-feira</td>\n",
       "      <td>2021_11</td>\n",
       "    </tr>\n",
       "    <tr>\n",
       "      <th>2</th>\n",
       "      <td>2.0</td>\n",
       "      <td>13997623975</td>\n",
       "      <td>feminino</td>\n",
       "      <td>0.0</td>\n",
       "      <td>14</td>\n",
       "      <td>presencial</td>\n",
       "      <td>loja</td>\n",
       "      <td>cliente pediu o orçamento do estofado dg2009 e...</td>\n",
       "      <td>sem observacao</td>\n",
       "      <td>2021-11-01</td>\n",
       "      <td>...</td>\n",
       "      <td>0.0</td>\n",
       "      <td>0.0</td>\n",
       "      <td>0.0</td>\n",
       "      <td>0.0</td>\n",
       "      <td>0.0</td>\n",
       "      <td>0.0</td>\n",
       "      <td>0.0</td>\n",
       "      <td>0.0</td>\n",
       "      <td>segunda-feira</td>\n",
       "      <td>2021_11</td>\n",
       "    </tr>\n",
       "    <tr>\n",
       "      <th>3</th>\n",
       "      <td>3.0</td>\n",
       "      <td>15996177717</td>\n",
       "      <td>masculino</td>\n",
       "      <td>0.0</td>\n",
       "      <td>15</td>\n",
       "      <td>presencial</td>\n",
       "      <td>loja</td>\n",
       "      <td>cliente solicitou orçamento dos estofados dg 2...</td>\n",
       "      <td>sem observacao</td>\n",
       "      <td>2021-11-01</td>\n",
       "      <td>...</td>\n",
       "      <td>0.0</td>\n",
       "      <td>0.0</td>\n",
       "      <td>0.0</td>\n",
       "      <td>0.0</td>\n",
       "      <td>0.0</td>\n",
       "      <td>0.0</td>\n",
       "      <td>0.0</td>\n",
       "      <td>0.0</td>\n",
       "      <td>segunda-feira</td>\n",
       "      <td>2021_11</td>\n",
       "    </tr>\n",
       "  </tbody>\n",
       "</table>\n",
       "<p>3 rows × 50 columns</p>\n",
       "</div>"
      ],
      "text/plain": [
       "   codigo      celular       sexo vendeu hora        tipo como conheceu  \\\n",
       "1     1.0  15000000000   feminino    0.0   10  presencial          loja   \n",
       "2     2.0  13997623975   feminino    0.0   14  presencial          loja   \n",
       "3     3.0  15996177717  masculino    0.0   15  presencial          loja   \n",
       "\n",
       "                                           melhorias      observacao  \\\n",
       "1  cliente entrou para conhecer a loja. comentou ...  sem observacao   \n",
       "2  cliente pediu o orçamento do estofado dg2009 e...  sem observacao   \n",
       "3  cliente solicitou orçamento dos estofados dg 2...  sem observacao   \n",
       "\n",
       "        data  ... poltrona pet box baú protetor travesseiro protetor colchao  \\\n",
       "1 2021-11-01  ...          0.0     0.0                  0.0              0.0   \n",
       "2 2021-11-01  ...          0.0     0.0                  0.0              0.0   \n",
       "3 2021-11-01  ...          0.0     0.0                  0.0              0.0   \n",
       "\n",
       "  decoraçao  amofadas  bicama  pillow     dia_semana  ano_mes  \n",
       "1       0.0       0.0     0.0     0.0  segunda-feira  2021_11  \n",
       "2       0.0       0.0     0.0     0.0  segunda-feira  2021_11  \n",
       "3       0.0       0.0     0.0     0.0  segunda-feira  2021_11  \n",
       "\n",
       "[3 rows x 50 columns]"
      ]
     },
     "execution_count": 11,
     "metadata": {},
     "output_type": "execute_result"
    }
   ],
   "source": [
    "#visualizando o dataframe após os tratamentos e limpeza na base de dados.\n",
    "df.head(3)  "
   ]
  },
  {
   "cell_type": "code",
   "execution_count": 12,
   "id": "5ee713bf",
   "metadata": {
    "scrolled": true
   },
   "outputs": [
    {
     "data": {
      "text/plain": [
       "codigo                  0\n",
       "celular                 0\n",
       "sexo                    0\n",
       "vendeu                  0\n",
       "hora                    0\n",
       "tipo                    0\n",
       "como conheceu           0\n",
       "melhorias               0\n",
       "observacao              0\n",
       "data                    0\n",
       "consultor               0\n",
       "retorno                 0\n",
       "status                  0\n",
       "orcamento               0\n",
       "ddd                     0\n",
       "colchao                 0\n",
       "estofado                0\n",
       "box                     0\n",
       "travesseiro             0\n",
       "mesa de cabeceira       0\n",
       "cama madeira            0\n",
       "cabeceira               0\n",
       "poltrona                0\n",
       "base baú                0\n",
       "tapete                  0\n",
       "roupa de cama           0\n",
       "criado                  0\n",
       "cabeceira               0\n",
       "pillowtop               0\n",
       "auxiliar de molas       0\n",
       "sofa cama               0\n",
       "puff                    0\n",
       "encosto e rampa         0\n",
       "base bau                0\n",
       "base                    0\n",
       "quadro                  0\n",
       "recamier                0\n",
       "protetor                0\n",
       "bom baú                 0\n",
       "materia prima           0\n",
       "poltrona pet            0\n",
       "box baú                 0\n",
       "protetor travesseiro    0\n",
       "protetor colchao        0\n",
       "decoraçao               0\n",
       "amofadas                0\n",
       "bicama                  0\n",
       "pillow                  0\n",
       "dia_semana              0\n",
       "ano_mes                 0\n",
       "dtype: int64"
      ]
     },
     "execution_count": 12,
     "metadata": {},
     "output_type": "execute_result"
    }
   ],
   "source": [
    "#analisando se existe nan no dataset\n",
    "df.isna().sum()"
   ]
  },
  {
   "cell_type": "code",
   "execution_count": 13,
   "id": "42592b70",
   "metadata": {},
   "outputs": [
    {
     "data": {
      "text/plain": [
       "(785, 50)"
      ]
     },
     "execution_count": 13,
     "metadata": {},
     "output_type": "execute_result"
    }
   ],
   "source": [
    "#785 linhas e 50 colunas no datafrane.\n",
    "df.shape"
   ]
  },
  {
   "cell_type": "markdown",
   "id": "3639025a",
   "metadata": {},
   "source": [
    "###  Aplicando a representação de texto NLP (Bag-of-words) nas colunas \"melhorias\" e \"observacao\" do dataset.\n",
    "### Utilizando o Scikit-Learn para representar o Bag-of-Words "
   ]
  },
  {
   "cell_type": "code",
   "execution_count": 14,
   "id": "664898f1",
   "metadata": {},
   "outputs": [],
   "source": [
    "from sklearn.feature_extraction.text import CountVectorizer\n",
    "text_melhorias = df['melhorias'] \n",
    "text_observacao = df['observacao'] \n",
    "count_melhorias = CountVectorizer()#por padrao não é binario,sem stopwors, sem quebrar espaço e faz por contagem.\n",
    "count_observacao = CountVectorizer()#por padrao não é binario,sem stopwors, sem quebrar espaço e faz por contagem.\n",
    "bag_of_words_melhorias = count_melhorias.fit_transform(text_melhorias)#vai construir o vocabulario e vai representar as amostras\n",
    "bag_of_words_observacao = count_observacao.fit_transform(text_observacao)#vai construir o vocabulario e vai representar as amostras"
   ]
  },
  {
   "cell_type": "markdown",
   "id": "23177efc",
   "metadata": {},
   "source": [
    "### Aplicando a Técnica PCA (Principal component analysis) nas colunas do Bag-of-Words"
   ]
  },
  {
   "cell_type": "code",
   "execution_count": 15,
   "id": "85bb49b8",
   "metadata": {},
   "outputs": [],
   "source": [
    "#Aplicando a técnica PCA nos Bag of Words do dataset\n",
    "#Para evitar Overfitting, devido ao número de colunas do dataset após o bag-of-words e por ser uma base desbalançeada\n",
    "#setando o pca para reduzir para 30 colunas os bag-of-words\n",
    "pca = PCA(n_components=30) \n",
    "bag_of_words_melhorias = pca.fit_transform(bag_of_words_melhorias.toarray())\n",
    "bag_of_words_observacao = pca.fit_transform(bag_of_words_observacao.toarray())"
   ]
  },
  {
   "cell_type": "code",
   "execution_count": 16,
   "id": "b6030a5a",
   "metadata": {},
   "outputs": [
    {
     "data": {
      "text/plain": [
       "(785, 30)"
      ]
     },
     "execution_count": 16,
     "metadata": {},
     "output_type": "execute_result"
    }
   ],
   "source": [
    "#visualizando o shape com 30 colunas, após a aplicação da técnica PCA\n",
    "bag_of_words_melhorias.shape "
   ]
  },
  {
   "cell_type": "code",
   "execution_count": 17,
   "id": "beef8afd",
   "metadata": {},
   "outputs": [
    {
     "data": {
      "text/plain": [
       "(785, 30)"
      ]
     },
     "execution_count": 17,
     "metadata": {},
     "output_type": "execute_result"
    }
   ],
   "source": [
    "#visualizando o shape com 30 colunas, após a aplicação da técnica PCA\n",
    "bag_of_words_observacao.shape"
   ]
  },
  {
   "cell_type": "markdown",
   "id": "f950385e",
   "metadata": {},
   "source": [
    "### Criando o data frame do Bag-of-Words da coluna \"melhorias\""
   ]
  },
  {
   "cell_type": "code",
   "execution_count": 18,
   "id": "c05638e2",
   "metadata": {
    "scrolled": false
   },
   "outputs": [
    {
     "data": {
      "text/html": [
       "<div>\n",
       "<style scoped>\n",
       "    .dataframe tbody tr th:only-of-type {\n",
       "        vertical-align: middle;\n",
       "    }\n",
       "\n",
       "    .dataframe tbody tr th {\n",
       "        vertical-align: top;\n",
       "    }\n",
       "\n",
       "    .dataframe thead th {\n",
       "        text-align: right;\n",
       "    }\n",
       "</style>\n",
       "<table border=\"1\" class=\"dataframe\">\n",
       "  <thead>\n",
       "    <tr style=\"text-align: right;\">\n",
       "      <th></th>\n",
       "      <th>0</th>\n",
       "      <th>1</th>\n",
       "      <th>2</th>\n",
       "      <th>3</th>\n",
       "      <th>4</th>\n",
       "      <th>5</th>\n",
       "      <th>6</th>\n",
       "      <th>7</th>\n",
       "      <th>8</th>\n",
       "      <th>9</th>\n",
       "      <th>...</th>\n",
       "      <th>20</th>\n",
       "      <th>21</th>\n",
       "      <th>22</th>\n",
       "      <th>23</th>\n",
       "      <th>24</th>\n",
       "      <th>25</th>\n",
       "      <th>26</th>\n",
       "      <th>27</th>\n",
       "      <th>28</th>\n",
       "      <th>29</th>\n",
       "    </tr>\n",
       "  </thead>\n",
       "  <tbody>\n",
       "    <tr>\n",
       "      <th>0</th>\n",
       "      <td>1.239843</td>\n",
       "      <td>-0.064448</td>\n",
       "      <td>-0.055440</td>\n",
       "      <td>-0.343532</td>\n",
       "      <td>0.620856</td>\n",
       "      <td>-1.266017</td>\n",
       "      <td>0.375677</td>\n",
       "      <td>-0.222556</td>\n",
       "      <td>-0.776803</td>\n",
       "      <td>0.919256</td>\n",
       "      <td>...</td>\n",
       "      <td>0.070888</td>\n",
       "      <td>0.051999</td>\n",
       "      <td>0.484269</td>\n",
       "      <td>0.117142</td>\n",
       "      <td>-0.051232</td>\n",
       "      <td>-0.022395</td>\n",
       "      <td>0.533378</td>\n",
       "      <td>0.150935</td>\n",
       "      <td>-0.210320</td>\n",
       "      <td>0.163504</td>\n",
       "    </tr>\n",
       "    <tr>\n",
       "      <th>1</th>\n",
       "      <td>1.593175</td>\n",
       "      <td>1.037809</td>\n",
       "      <td>-0.364263</td>\n",
       "      <td>0.634927</td>\n",
       "      <td>-2.220716</td>\n",
       "      <td>0.194200</td>\n",
       "      <td>1.493752</td>\n",
       "      <td>-1.000459</td>\n",
       "      <td>-0.474967</td>\n",
       "      <td>0.355335</td>\n",
       "      <td>...</td>\n",
       "      <td>-0.162933</td>\n",
       "      <td>-0.339155</td>\n",
       "      <td>0.191005</td>\n",
       "      <td>0.132011</td>\n",
       "      <td>0.691260</td>\n",
       "      <td>-0.432091</td>\n",
       "      <td>0.318709</td>\n",
       "      <td>-0.903019</td>\n",
       "      <td>-0.476583</td>\n",
       "      <td>-0.348566</td>\n",
       "    </tr>\n",
       "    <tr>\n",
       "      <th>2</th>\n",
       "      <td>0.770380</td>\n",
       "      <td>-0.131745</td>\n",
       "      <td>0.063813</td>\n",
       "      <td>-0.350065</td>\n",
       "      <td>-1.337646</td>\n",
       "      <td>-0.523995</td>\n",
       "      <td>0.163271</td>\n",
       "      <td>0.103556</td>\n",
       "      <td>-0.584615</td>\n",
       "      <td>-0.027289</td>\n",
       "      <td>...</td>\n",
       "      <td>0.339292</td>\n",
       "      <td>-0.797030</td>\n",
       "      <td>-0.717007</td>\n",
       "      <td>0.855654</td>\n",
       "      <td>0.233326</td>\n",
       "      <td>0.122833</td>\n",
       "      <td>0.250123</td>\n",
       "      <td>0.073038</td>\n",
       "      <td>0.262659</td>\n",
       "      <td>0.472819</td>\n",
       "    </tr>\n",
       "    <tr>\n",
       "      <th>3</th>\n",
       "      <td>1.817600</td>\n",
       "      <td>1.568266</td>\n",
       "      <td>1.398059</td>\n",
       "      <td>-0.547988</td>\n",
       "      <td>-0.447738</td>\n",
       "      <td>-0.615629</td>\n",
       "      <td>1.868670</td>\n",
       "      <td>-0.416891</td>\n",
       "      <td>-1.265985</td>\n",
       "      <td>-0.204430</td>\n",
       "      <td>...</td>\n",
       "      <td>0.317740</td>\n",
       "      <td>-0.432469</td>\n",
       "      <td>0.303741</td>\n",
       "      <td>0.313728</td>\n",
       "      <td>-0.290527</td>\n",
       "      <td>0.232926</td>\n",
       "      <td>0.337545</td>\n",
       "      <td>-0.416606</td>\n",
       "      <td>0.193758</td>\n",
       "      <td>-0.408968</td>\n",
       "    </tr>\n",
       "    <tr>\n",
       "      <th>4</th>\n",
       "      <td>1.192367</td>\n",
       "      <td>0.515092</td>\n",
       "      <td>-0.038846</td>\n",
       "      <td>-0.059142</td>\n",
       "      <td>-2.680060</td>\n",
       "      <td>-0.323013</td>\n",
       "      <td>1.187455</td>\n",
       "      <td>-0.989841</td>\n",
       "      <td>-0.042838</td>\n",
       "      <td>0.446859</td>\n",
       "      <td>...</td>\n",
       "      <td>0.082497</td>\n",
       "      <td>-0.366988</td>\n",
       "      <td>-0.665562</td>\n",
       "      <td>-0.004653</td>\n",
       "      <td>-0.071181</td>\n",
       "      <td>0.117110</td>\n",
       "      <td>-0.400129</td>\n",
       "      <td>-0.077210</td>\n",
       "      <td>-0.129843</td>\n",
       "      <td>-0.209436</td>\n",
       "    </tr>\n",
       "  </tbody>\n",
       "</table>\n",
       "<p>5 rows × 30 columns</p>\n",
       "</div>"
      ],
      "text/plain": [
       "         0         1         2         3         4         5         6   \\\n",
       "0  1.239843 -0.064448 -0.055440 -0.343532  0.620856 -1.266017  0.375677   \n",
       "1  1.593175  1.037809 -0.364263  0.634927 -2.220716  0.194200  1.493752   \n",
       "2  0.770380 -0.131745  0.063813 -0.350065 -1.337646 -0.523995  0.163271   \n",
       "3  1.817600  1.568266  1.398059 -0.547988 -0.447738 -0.615629  1.868670   \n",
       "4  1.192367  0.515092 -0.038846 -0.059142 -2.680060 -0.323013  1.187455   \n",
       "\n",
       "         7         8         9   ...        20        21        22        23  \\\n",
       "0 -0.222556 -0.776803  0.919256  ...  0.070888  0.051999  0.484269  0.117142   \n",
       "1 -1.000459 -0.474967  0.355335  ... -0.162933 -0.339155  0.191005  0.132011   \n",
       "2  0.103556 -0.584615 -0.027289  ...  0.339292 -0.797030 -0.717007  0.855654   \n",
       "3 -0.416891 -1.265985 -0.204430  ...  0.317740 -0.432469  0.303741  0.313728   \n",
       "4 -0.989841 -0.042838  0.446859  ...  0.082497 -0.366988 -0.665562 -0.004653   \n",
       "\n",
       "         24        25        26        27        28        29  \n",
       "0 -0.051232 -0.022395  0.533378  0.150935 -0.210320  0.163504  \n",
       "1  0.691260 -0.432091  0.318709 -0.903019 -0.476583 -0.348566  \n",
       "2  0.233326  0.122833  0.250123  0.073038  0.262659  0.472819  \n",
       "3 -0.290527  0.232926  0.337545 -0.416606  0.193758 -0.408968  \n",
       "4 -0.071181  0.117110 -0.400129 -0.077210 -0.129843 -0.209436  \n",
       "\n",
       "[5 rows x 30 columns]"
      ]
     },
     "execution_count": 18,
     "metadata": {},
     "output_type": "execute_result"
    }
   ],
   "source": [
    "# Criando o data frame de bow de melhorias\n",
    "df_melhorias = pd.DataFrame(bag_of_words_melhorias)\n",
    "df_melhorias.head(5)"
   ]
  },
  {
   "cell_type": "markdown",
   "id": "0aa8dc34",
   "metadata": {},
   "source": [
    "### Criando o data frame do Bag-of-Words da coluna \"observacao\""
   ]
  },
  {
   "cell_type": "code",
   "execution_count": 19,
   "id": "735ece4b",
   "metadata": {},
   "outputs": [
    {
     "data": {
      "text/html": [
       "<div>\n",
       "<style scoped>\n",
       "    .dataframe tbody tr th:only-of-type {\n",
       "        vertical-align: middle;\n",
       "    }\n",
       "\n",
       "    .dataframe tbody tr th {\n",
       "        vertical-align: top;\n",
       "    }\n",
       "\n",
       "    .dataframe thead th {\n",
       "        text-align: right;\n",
       "    }\n",
       "</style>\n",
       "<table border=\"1\" class=\"dataframe\">\n",
       "  <thead>\n",
       "    <tr style=\"text-align: right;\">\n",
       "      <th></th>\n",
       "      <th>0</th>\n",
       "      <th>1</th>\n",
       "      <th>2</th>\n",
       "      <th>3</th>\n",
       "      <th>4</th>\n",
       "      <th>5</th>\n",
       "      <th>6</th>\n",
       "      <th>7</th>\n",
       "      <th>8</th>\n",
       "      <th>9</th>\n",
       "      <th>...</th>\n",
       "      <th>20</th>\n",
       "      <th>21</th>\n",
       "      <th>22</th>\n",
       "      <th>23</th>\n",
       "      <th>24</th>\n",
       "      <th>25</th>\n",
       "      <th>26</th>\n",
       "      <th>27</th>\n",
       "      <th>28</th>\n",
       "      <th>29</th>\n",
       "    </tr>\n",
       "  </thead>\n",
       "  <tbody>\n",
       "    <tr>\n",
       "      <th>0</th>\n",
       "      <td>-0.243441</td>\n",
       "      <td>0.382192</td>\n",
       "      <td>0.068989</td>\n",
       "      <td>0.062324</td>\n",
       "      <td>-0.019711</td>\n",
       "      <td>-0.047032</td>\n",
       "      <td>0.017425</td>\n",
       "      <td>0.023213</td>\n",
       "      <td>-0.03117</td>\n",
       "      <td>-0.012338</td>\n",
       "      <td>...</td>\n",
       "      <td>0.005964</td>\n",
       "      <td>-0.00149</td>\n",
       "      <td>0.002871</td>\n",
       "      <td>0.001327</td>\n",
       "      <td>-0.003612</td>\n",
       "      <td>0.001249</td>\n",
       "      <td>0.000745</td>\n",
       "      <td>0.000702</td>\n",
       "      <td>0.001655</td>\n",
       "      <td>0.001475</td>\n",
       "    </tr>\n",
       "    <tr>\n",
       "      <th>1</th>\n",
       "      <td>-0.243441</td>\n",
       "      <td>0.382192</td>\n",
       "      <td>0.068989</td>\n",
       "      <td>0.062324</td>\n",
       "      <td>-0.019711</td>\n",
       "      <td>-0.047032</td>\n",
       "      <td>0.017425</td>\n",
       "      <td>0.023213</td>\n",
       "      <td>-0.03117</td>\n",
       "      <td>-0.012338</td>\n",
       "      <td>...</td>\n",
       "      <td>0.005964</td>\n",
       "      <td>-0.00149</td>\n",
       "      <td>0.002871</td>\n",
       "      <td>0.001327</td>\n",
       "      <td>-0.003612</td>\n",
       "      <td>0.001249</td>\n",
       "      <td>0.000745</td>\n",
       "      <td>0.000702</td>\n",
       "      <td>0.001655</td>\n",
       "      <td>0.001475</td>\n",
       "    </tr>\n",
       "    <tr>\n",
       "      <th>2</th>\n",
       "      <td>-0.243441</td>\n",
       "      <td>0.382192</td>\n",
       "      <td>0.068989</td>\n",
       "      <td>0.062324</td>\n",
       "      <td>-0.019711</td>\n",
       "      <td>-0.047032</td>\n",
       "      <td>0.017425</td>\n",
       "      <td>0.023213</td>\n",
       "      <td>-0.03117</td>\n",
       "      <td>-0.012338</td>\n",
       "      <td>...</td>\n",
       "      <td>0.005964</td>\n",
       "      <td>-0.00149</td>\n",
       "      <td>0.002871</td>\n",
       "      <td>0.001327</td>\n",
       "      <td>-0.003612</td>\n",
       "      <td>0.001249</td>\n",
       "      <td>0.000745</td>\n",
       "      <td>0.000702</td>\n",
       "      <td>0.001655</td>\n",
       "      <td>0.001475</td>\n",
       "    </tr>\n",
       "    <tr>\n",
       "      <th>3</th>\n",
       "      <td>-0.243441</td>\n",
       "      <td>0.382192</td>\n",
       "      <td>0.068989</td>\n",
       "      <td>0.062324</td>\n",
       "      <td>-0.019711</td>\n",
       "      <td>-0.047032</td>\n",
       "      <td>0.017425</td>\n",
       "      <td>0.023213</td>\n",
       "      <td>-0.03117</td>\n",
       "      <td>-0.012338</td>\n",
       "      <td>...</td>\n",
       "      <td>0.005964</td>\n",
       "      <td>-0.00149</td>\n",
       "      <td>0.002871</td>\n",
       "      <td>0.001327</td>\n",
       "      <td>-0.003612</td>\n",
       "      <td>0.001249</td>\n",
       "      <td>0.000745</td>\n",
       "      <td>0.000702</td>\n",
       "      <td>0.001655</td>\n",
       "      <td>0.001475</td>\n",
       "    </tr>\n",
       "    <tr>\n",
       "      <th>4</th>\n",
       "      <td>-0.243441</td>\n",
       "      <td>0.382192</td>\n",
       "      <td>0.068989</td>\n",
       "      <td>0.062324</td>\n",
       "      <td>-0.019711</td>\n",
       "      <td>-0.047032</td>\n",
       "      <td>0.017425</td>\n",
       "      <td>0.023213</td>\n",
       "      <td>-0.03117</td>\n",
       "      <td>-0.012338</td>\n",
       "      <td>...</td>\n",
       "      <td>0.005964</td>\n",
       "      <td>-0.00149</td>\n",
       "      <td>0.002871</td>\n",
       "      <td>0.001327</td>\n",
       "      <td>-0.003612</td>\n",
       "      <td>0.001249</td>\n",
       "      <td>0.000745</td>\n",
       "      <td>0.000702</td>\n",
       "      <td>0.001655</td>\n",
       "      <td>0.001475</td>\n",
       "    </tr>\n",
       "  </tbody>\n",
       "</table>\n",
       "<p>5 rows × 30 columns</p>\n",
       "</div>"
      ],
      "text/plain": [
       "         0         1         2         3         4         5         6   \\\n",
       "0 -0.243441  0.382192  0.068989  0.062324 -0.019711 -0.047032  0.017425   \n",
       "1 -0.243441  0.382192  0.068989  0.062324 -0.019711 -0.047032  0.017425   \n",
       "2 -0.243441  0.382192  0.068989  0.062324 -0.019711 -0.047032  0.017425   \n",
       "3 -0.243441  0.382192  0.068989  0.062324 -0.019711 -0.047032  0.017425   \n",
       "4 -0.243441  0.382192  0.068989  0.062324 -0.019711 -0.047032  0.017425   \n",
       "\n",
       "         7        8         9   ...        20       21        22        23  \\\n",
       "0  0.023213 -0.03117 -0.012338  ...  0.005964 -0.00149  0.002871  0.001327   \n",
       "1  0.023213 -0.03117 -0.012338  ...  0.005964 -0.00149  0.002871  0.001327   \n",
       "2  0.023213 -0.03117 -0.012338  ...  0.005964 -0.00149  0.002871  0.001327   \n",
       "3  0.023213 -0.03117 -0.012338  ...  0.005964 -0.00149  0.002871  0.001327   \n",
       "4  0.023213 -0.03117 -0.012338  ...  0.005964 -0.00149  0.002871  0.001327   \n",
       "\n",
       "         24        25        26        27        28        29  \n",
       "0 -0.003612  0.001249  0.000745  0.000702  0.001655  0.001475  \n",
       "1 -0.003612  0.001249  0.000745  0.000702  0.001655  0.001475  \n",
       "2 -0.003612  0.001249  0.000745  0.000702  0.001655  0.001475  \n",
       "3 -0.003612  0.001249  0.000745  0.000702  0.001655  0.001475  \n",
       "4 -0.003612  0.001249  0.000745  0.000702  0.001655  0.001475  \n",
       "\n",
       "[5 rows x 30 columns]"
      ]
     },
     "execution_count": 19,
     "metadata": {},
     "output_type": "execute_result"
    }
   ],
   "source": [
    "#Criando o data frame de bow de observacao\n",
    "df_observacao = pd.DataFrame(bag_of_words_observacao)\n",
    "df_observacao.head(5)"
   ]
  },
  {
   "cell_type": "markdown",
   "id": "c225d9a7",
   "metadata": {},
   "source": [
    "### Concatenando o dataset [df_observacao] com o dataset [df_melhorias]"
   ]
  },
  {
   "cell_type": "code",
   "execution_count": 20,
   "id": "cb3bc6c3",
   "metadata": {
    "scrolled": true
   },
   "outputs": [
    {
     "data": {
      "text/html": [
       "<div>\n",
       "<style scoped>\n",
       "    .dataframe tbody tr th:only-of-type {\n",
       "        vertical-align: middle;\n",
       "    }\n",
       "\n",
       "    .dataframe tbody tr th {\n",
       "        vertical-align: top;\n",
       "    }\n",
       "\n",
       "    .dataframe thead th {\n",
       "        text-align: right;\n",
       "    }\n",
       "</style>\n",
       "<table border=\"1\" class=\"dataframe\">\n",
       "  <thead>\n",
       "    <tr style=\"text-align: right;\">\n",
       "      <th></th>\n",
       "      <th>0</th>\n",
       "      <th>1</th>\n",
       "      <th>2</th>\n",
       "      <th>3</th>\n",
       "      <th>4</th>\n",
       "      <th>5</th>\n",
       "      <th>6</th>\n",
       "      <th>7</th>\n",
       "      <th>8</th>\n",
       "      <th>9</th>\n",
       "      <th>...</th>\n",
       "      <th>20</th>\n",
       "      <th>21</th>\n",
       "      <th>22</th>\n",
       "      <th>23</th>\n",
       "      <th>24</th>\n",
       "      <th>25</th>\n",
       "      <th>26</th>\n",
       "      <th>27</th>\n",
       "      <th>28</th>\n",
       "      <th>29</th>\n",
       "    </tr>\n",
       "  </thead>\n",
       "  <tbody>\n",
       "    <tr>\n",
       "      <th>0</th>\n",
       "      <td>-0.243441</td>\n",
       "      <td>0.382192</td>\n",
       "      <td>0.068989</td>\n",
       "      <td>0.062324</td>\n",
       "      <td>-0.019711</td>\n",
       "      <td>-0.047032</td>\n",
       "      <td>0.017425</td>\n",
       "      <td>0.023213</td>\n",
       "      <td>-0.03117</td>\n",
       "      <td>-0.012338</td>\n",
       "      <td>...</td>\n",
       "      <td>0.070888</td>\n",
       "      <td>0.051999</td>\n",
       "      <td>0.484269</td>\n",
       "      <td>0.117142</td>\n",
       "      <td>-0.051232</td>\n",
       "      <td>-0.022395</td>\n",
       "      <td>0.533378</td>\n",
       "      <td>0.150935</td>\n",
       "      <td>-0.210320</td>\n",
       "      <td>0.163504</td>\n",
       "    </tr>\n",
       "    <tr>\n",
       "      <th>1</th>\n",
       "      <td>-0.243441</td>\n",
       "      <td>0.382192</td>\n",
       "      <td>0.068989</td>\n",
       "      <td>0.062324</td>\n",
       "      <td>-0.019711</td>\n",
       "      <td>-0.047032</td>\n",
       "      <td>0.017425</td>\n",
       "      <td>0.023213</td>\n",
       "      <td>-0.03117</td>\n",
       "      <td>-0.012338</td>\n",
       "      <td>...</td>\n",
       "      <td>-0.162933</td>\n",
       "      <td>-0.339155</td>\n",
       "      <td>0.191005</td>\n",
       "      <td>0.132011</td>\n",
       "      <td>0.691260</td>\n",
       "      <td>-0.432091</td>\n",
       "      <td>0.318709</td>\n",
       "      <td>-0.903019</td>\n",
       "      <td>-0.476583</td>\n",
       "      <td>-0.348566</td>\n",
       "    </tr>\n",
       "    <tr>\n",
       "      <th>2</th>\n",
       "      <td>-0.243441</td>\n",
       "      <td>0.382192</td>\n",
       "      <td>0.068989</td>\n",
       "      <td>0.062324</td>\n",
       "      <td>-0.019711</td>\n",
       "      <td>-0.047032</td>\n",
       "      <td>0.017425</td>\n",
       "      <td>0.023213</td>\n",
       "      <td>-0.03117</td>\n",
       "      <td>-0.012338</td>\n",
       "      <td>...</td>\n",
       "      <td>0.339292</td>\n",
       "      <td>-0.797030</td>\n",
       "      <td>-0.717007</td>\n",
       "      <td>0.855654</td>\n",
       "      <td>0.233326</td>\n",
       "      <td>0.122833</td>\n",
       "      <td>0.250123</td>\n",
       "      <td>0.073038</td>\n",
       "      <td>0.262659</td>\n",
       "      <td>0.472819</td>\n",
       "    </tr>\n",
       "    <tr>\n",
       "      <th>3</th>\n",
       "      <td>-0.243441</td>\n",
       "      <td>0.382192</td>\n",
       "      <td>0.068989</td>\n",
       "      <td>0.062324</td>\n",
       "      <td>-0.019711</td>\n",
       "      <td>-0.047032</td>\n",
       "      <td>0.017425</td>\n",
       "      <td>0.023213</td>\n",
       "      <td>-0.03117</td>\n",
       "      <td>-0.012338</td>\n",
       "      <td>...</td>\n",
       "      <td>0.317740</td>\n",
       "      <td>-0.432469</td>\n",
       "      <td>0.303741</td>\n",
       "      <td>0.313728</td>\n",
       "      <td>-0.290527</td>\n",
       "      <td>0.232926</td>\n",
       "      <td>0.337545</td>\n",
       "      <td>-0.416606</td>\n",
       "      <td>0.193758</td>\n",
       "      <td>-0.408968</td>\n",
       "    </tr>\n",
       "    <tr>\n",
       "      <th>4</th>\n",
       "      <td>-0.243441</td>\n",
       "      <td>0.382192</td>\n",
       "      <td>0.068989</td>\n",
       "      <td>0.062324</td>\n",
       "      <td>-0.019711</td>\n",
       "      <td>-0.047032</td>\n",
       "      <td>0.017425</td>\n",
       "      <td>0.023213</td>\n",
       "      <td>-0.03117</td>\n",
       "      <td>-0.012338</td>\n",
       "      <td>...</td>\n",
       "      <td>0.082497</td>\n",
       "      <td>-0.366988</td>\n",
       "      <td>-0.665562</td>\n",
       "      <td>-0.004653</td>\n",
       "      <td>-0.071181</td>\n",
       "      <td>0.117110</td>\n",
       "      <td>-0.400129</td>\n",
       "      <td>-0.077210</td>\n",
       "      <td>-0.129843</td>\n",
       "      <td>-0.209436</td>\n",
       "    </tr>\n",
       "  </tbody>\n",
       "</table>\n",
       "<p>5 rows × 60 columns</p>\n",
       "</div>"
      ],
      "text/plain": [
       "         0         1         2         3         4         5         6   \\\n",
       "0 -0.243441  0.382192  0.068989  0.062324 -0.019711 -0.047032  0.017425   \n",
       "1 -0.243441  0.382192  0.068989  0.062324 -0.019711 -0.047032  0.017425   \n",
       "2 -0.243441  0.382192  0.068989  0.062324 -0.019711 -0.047032  0.017425   \n",
       "3 -0.243441  0.382192  0.068989  0.062324 -0.019711 -0.047032  0.017425   \n",
       "4 -0.243441  0.382192  0.068989  0.062324 -0.019711 -0.047032  0.017425   \n",
       "\n",
       "         7        8         9   ...        20        21        22        23  \\\n",
       "0  0.023213 -0.03117 -0.012338  ...  0.070888  0.051999  0.484269  0.117142   \n",
       "1  0.023213 -0.03117 -0.012338  ... -0.162933 -0.339155  0.191005  0.132011   \n",
       "2  0.023213 -0.03117 -0.012338  ...  0.339292 -0.797030 -0.717007  0.855654   \n",
       "3  0.023213 -0.03117 -0.012338  ...  0.317740 -0.432469  0.303741  0.313728   \n",
       "4  0.023213 -0.03117 -0.012338  ...  0.082497 -0.366988 -0.665562 -0.004653   \n",
       "\n",
       "         24        25        26        27        28        29  \n",
       "0 -0.051232 -0.022395  0.533378  0.150935 -0.210320  0.163504  \n",
       "1  0.691260 -0.432091  0.318709 -0.903019 -0.476583 -0.348566  \n",
       "2  0.233326  0.122833  0.250123  0.073038  0.262659  0.472819  \n",
       "3 -0.290527  0.232926  0.337545 -0.416606  0.193758 -0.408968  \n",
       "4 -0.071181  0.117110 -0.400129 -0.077210 -0.129843 -0.209436  \n",
       "\n",
       "[5 rows x 60 columns]"
      ]
     },
     "execution_count": 20,
     "metadata": {},
     "output_type": "execute_result"
    }
   ],
   "source": [
    "# concatenando os datasets de bag of words de melhorias com observacao\n",
    "df_concat_bow = pd.concat([df_observacao, df_melhorias], axis=1)\n",
    "df_concat_bow.head(5)"
   ]
  },
  {
   "cell_type": "code",
   "execution_count": 21,
   "id": "eafc9061",
   "metadata": {},
   "outputs": [
    {
     "data": {
      "text/plain": [
       "(785, 60)"
      ]
     },
     "execution_count": 21,
     "metadata": {},
     "output_type": "execute_result"
    }
   ],
   "source": [
    "#visualizando o shape da concatenação entre melhorias e observação, 60 colunas.\n",
    "df_concat_bow.shape"
   ]
  },
  {
   "cell_type": "markdown",
   "id": "71466661",
   "metadata": {},
   "source": [
    "### Concatenando o dataset [df_concat_bow] com o dataset [df]"
   ]
  },
  {
   "cell_type": "code",
   "execution_count": 22,
   "id": "c5459169",
   "metadata": {
    "scrolled": false
   },
   "outputs": [
    {
     "data": {
      "text/html": [
       "<div>\n",
       "<style scoped>\n",
       "    .dataframe tbody tr th:only-of-type {\n",
       "        vertical-align: middle;\n",
       "    }\n",
       "\n",
       "    .dataframe tbody tr th {\n",
       "        vertical-align: top;\n",
       "    }\n",
       "\n",
       "    .dataframe thead th {\n",
       "        text-align: right;\n",
       "    }\n",
       "</style>\n",
       "<table border=\"1\" class=\"dataframe\">\n",
       "  <thead>\n",
       "    <tr style=\"text-align: right;\">\n",
       "      <th></th>\n",
       "      <th>codigo</th>\n",
       "      <th>celular</th>\n",
       "      <th>sexo</th>\n",
       "      <th>vendeu</th>\n",
       "      <th>hora</th>\n",
       "      <th>tipo</th>\n",
       "      <th>como conheceu</th>\n",
       "      <th>melhorias</th>\n",
       "      <th>observacao</th>\n",
       "      <th>data</th>\n",
       "      <th>...</th>\n",
       "      <th>20</th>\n",
       "      <th>21</th>\n",
       "      <th>22</th>\n",
       "      <th>23</th>\n",
       "      <th>24</th>\n",
       "      <th>25</th>\n",
       "      <th>26</th>\n",
       "      <th>27</th>\n",
       "      <th>28</th>\n",
       "      <th>29</th>\n",
       "    </tr>\n",
       "  </thead>\n",
       "  <tbody>\n",
       "    <tr>\n",
       "      <th>1</th>\n",
       "      <td>1.0</td>\n",
       "      <td>15000000000</td>\n",
       "      <td>feminino</td>\n",
       "      <td>0.0</td>\n",
       "      <td>10</td>\n",
       "      <td>presencial</td>\n",
       "      <td>loja</td>\n",
       "      <td>cliente entrou para conhecer a loja. comentou ...</td>\n",
       "      <td>sem observacao</td>\n",
       "      <td>2021-11-01</td>\n",
       "      <td>...</td>\n",
       "      <td>-0.162933</td>\n",
       "      <td>-0.339155</td>\n",
       "      <td>0.191005</td>\n",
       "      <td>0.132011</td>\n",
       "      <td>0.691260</td>\n",
       "      <td>-0.432091</td>\n",
       "      <td>0.318709</td>\n",
       "      <td>-0.903019</td>\n",
       "      <td>-0.476583</td>\n",
       "      <td>-0.348566</td>\n",
       "    </tr>\n",
       "    <tr>\n",
       "      <th>2</th>\n",
       "      <td>2.0</td>\n",
       "      <td>13997623975</td>\n",
       "      <td>feminino</td>\n",
       "      <td>0.0</td>\n",
       "      <td>14</td>\n",
       "      <td>presencial</td>\n",
       "      <td>loja</td>\n",
       "      <td>cliente pediu o orçamento do estofado dg2009 e...</td>\n",
       "      <td>sem observacao</td>\n",
       "      <td>2021-11-01</td>\n",
       "      <td>...</td>\n",
       "      <td>0.339292</td>\n",
       "      <td>-0.797030</td>\n",
       "      <td>-0.717007</td>\n",
       "      <td>0.855654</td>\n",
       "      <td>0.233326</td>\n",
       "      <td>0.122833</td>\n",
       "      <td>0.250123</td>\n",
       "      <td>0.073038</td>\n",
       "      <td>0.262659</td>\n",
       "      <td>0.472819</td>\n",
       "    </tr>\n",
       "    <tr>\n",
       "      <th>3</th>\n",
       "      <td>3.0</td>\n",
       "      <td>15996177717</td>\n",
       "      <td>masculino</td>\n",
       "      <td>0.0</td>\n",
       "      <td>15</td>\n",
       "      <td>presencial</td>\n",
       "      <td>loja</td>\n",
       "      <td>cliente solicitou orçamento dos estofados dg 2...</td>\n",
       "      <td>sem observacao</td>\n",
       "      <td>2021-11-01</td>\n",
       "      <td>...</td>\n",
       "      <td>0.317740</td>\n",
       "      <td>-0.432469</td>\n",
       "      <td>0.303741</td>\n",
       "      <td>0.313728</td>\n",
       "      <td>-0.290527</td>\n",
       "      <td>0.232926</td>\n",
       "      <td>0.337545</td>\n",
       "      <td>-0.416606</td>\n",
       "      <td>0.193758</td>\n",
       "      <td>-0.408968</td>\n",
       "    </tr>\n",
       "  </tbody>\n",
       "</table>\n",
       "<p>3 rows × 110 columns</p>\n",
       "</div>"
      ],
      "text/plain": [
       "   codigo      celular       sexo vendeu hora        tipo como conheceu  \\\n",
       "1     1.0  15000000000   feminino    0.0   10  presencial          loja   \n",
       "2     2.0  13997623975   feminino    0.0   14  presencial          loja   \n",
       "3     3.0  15996177717  masculino    0.0   15  presencial          loja   \n",
       "\n",
       "                                           melhorias      observacao  \\\n",
       "1  cliente entrou para conhecer a loja. comentou ...  sem observacao   \n",
       "2  cliente pediu o orçamento do estofado dg2009 e...  sem observacao   \n",
       "3  cliente solicitou orçamento dos estofados dg 2...  sem observacao   \n",
       "\n",
       "        data  ...        20        21        22        23        24        25  \\\n",
       "1 2021-11-01  ... -0.162933 -0.339155  0.191005  0.132011  0.691260 -0.432091   \n",
       "2 2021-11-01  ...  0.339292 -0.797030 -0.717007  0.855654  0.233326  0.122833   \n",
       "3 2021-11-01  ...  0.317740 -0.432469  0.303741  0.313728 -0.290527  0.232926   \n",
       "\n",
       "         26        27        28        29  \n",
       "1  0.318709 -0.903019 -0.476583 -0.348566  \n",
       "2  0.250123  0.073038  0.262659  0.472819  \n",
       "3  0.337545 -0.416606  0.193758 -0.408968  \n",
       "\n",
       "[3 rows x 110 columns]"
      ]
     },
     "execution_count": 22,
     "metadata": {},
     "output_type": "execute_result"
    }
   ],
   "source": [
    "#concatenando os datasets bag of words com o df original\n",
    "result = pd.concat([df, df_concat_bow], axis=1)\n",
    "result.head(3)"
   ]
  },
  {
   "cell_type": "markdown",
   "id": "88232554",
   "metadata": {},
   "source": [
    "### Dropando as colunas \"melhorias\" e \"obervação\" , após aplicação do método bag-of-words"
   ]
  },
  {
   "cell_type": "code",
   "execution_count": 23,
   "id": "c5fff513",
   "metadata": {},
   "outputs": [],
   "source": [
    "#dropando as colunas melhorias e observacao do data frame[result]\n",
    "result.drop('melhorias',axis = 1, inplace = True)\n",
    "result.drop('observacao',axis = 1, inplace = True)"
   ]
  },
  {
   "cell_type": "code",
   "execution_count": 24,
   "id": "4b61ce65",
   "metadata": {},
   "outputs": [
    {
     "data": {
      "text/plain": [
       "(786, 108)"
      ]
     },
     "execution_count": 24,
     "metadata": {},
     "output_type": "execute_result"
    }
   ],
   "source": [
    "#visualizando o shape do dataframe [result], com 786 linhas e 108 colunas  \n",
    "result.shape"
   ]
  },
  {
   "cell_type": "code",
   "execution_count": 25,
   "id": "7c882e5b",
   "metadata": {
    "scrolled": false
   },
   "outputs": [
    {
     "data": {
      "text/html": [
       "<div>\n",
       "<style scoped>\n",
       "    .dataframe tbody tr th:only-of-type {\n",
       "        vertical-align: middle;\n",
       "    }\n",
       "\n",
       "    .dataframe tbody tr th {\n",
       "        vertical-align: top;\n",
       "    }\n",
       "\n",
       "    .dataframe thead th {\n",
       "        text-align: right;\n",
       "    }\n",
       "</style>\n",
       "<table border=\"1\" class=\"dataframe\">\n",
       "  <thead>\n",
       "    <tr style=\"text-align: right;\">\n",
       "      <th></th>\n",
       "      <th>codigo</th>\n",
       "      <th>celular</th>\n",
       "      <th>sexo</th>\n",
       "      <th>vendeu</th>\n",
       "      <th>hora</th>\n",
       "      <th>tipo</th>\n",
       "      <th>como conheceu</th>\n",
       "      <th>data</th>\n",
       "      <th>consultor</th>\n",
       "      <th>retorno</th>\n",
       "      <th>...</th>\n",
       "      <th>20</th>\n",
       "      <th>21</th>\n",
       "      <th>22</th>\n",
       "      <th>23</th>\n",
       "      <th>24</th>\n",
       "      <th>25</th>\n",
       "      <th>26</th>\n",
       "      <th>27</th>\n",
       "      <th>28</th>\n",
       "      <th>29</th>\n",
       "    </tr>\n",
       "  </thead>\n",
       "  <tbody>\n",
       "    <tr>\n",
       "      <th>1</th>\n",
       "      <td>1.0</td>\n",
       "      <td>15000000000</td>\n",
       "      <td>feminino</td>\n",
       "      <td>0.0</td>\n",
       "      <td>10</td>\n",
       "      <td>presencial</td>\n",
       "      <td>loja</td>\n",
       "      <td>2021-11-01</td>\n",
       "      <td>ari</td>\n",
       "      <td>nao</td>\n",
       "      <td>...</td>\n",
       "      <td>-0.162933</td>\n",
       "      <td>-0.339155</td>\n",
       "      <td>0.191005</td>\n",
       "      <td>0.132011</td>\n",
       "      <td>0.691260</td>\n",
       "      <td>-0.432091</td>\n",
       "      <td>0.318709</td>\n",
       "      <td>-0.903019</td>\n",
       "      <td>-0.476583</td>\n",
       "      <td>-0.348566</td>\n",
       "    </tr>\n",
       "    <tr>\n",
       "      <th>2</th>\n",
       "      <td>2.0</td>\n",
       "      <td>13997623975</td>\n",
       "      <td>feminino</td>\n",
       "      <td>0.0</td>\n",
       "      <td>14</td>\n",
       "      <td>presencial</td>\n",
       "      <td>loja</td>\n",
       "      <td>2021-11-01</td>\n",
       "      <td>ari</td>\n",
       "      <td>nao</td>\n",
       "      <td>...</td>\n",
       "      <td>0.339292</td>\n",
       "      <td>-0.797030</td>\n",
       "      <td>-0.717007</td>\n",
       "      <td>0.855654</td>\n",
       "      <td>0.233326</td>\n",
       "      <td>0.122833</td>\n",
       "      <td>0.250123</td>\n",
       "      <td>0.073038</td>\n",
       "      <td>0.262659</td>\n",
       "      <td>0.472819</td>\n",
       "    </tr>\n",
       "    <tr>\n",
       "      <th>3</th>\n",
       "      <td>3.0</td>\n",
       "      <td>15996177717</td>\n",
       "      <td>masculino</td>\n",
       "      <td>0.0</td>\n",
       "      <td>15</td>\n",
       "      <td>presencial</td>\n",
       "      <td>loja</td>\n",
       "      <td>2021-11-01</td>\n",
       "      <td>ari</td>\n",
       "      <td>nao</td>\n",
       "      <td>...</td>\n",
       "      <td>0.317740</td>\n",
       "      <td>-0.432469</td>\n",
       "      <td>0.303741</td>\n",
       "      <td>0.313728</td>\n",
       "      <td>-0.290527</td>\n",
       "      <td>0.232926</td>\n",
       "      <td>0.337545</td>\n",
       "      <td>-0.416606</td>\n",
       "      <td>0.193758</td>\n",
       "      <td>-0.408968</td>\n",
       "    </tr>\n",
       "  </tbody>\n",
       "</table>\n",
       "<p>3 rows × 108 columns</p>\n",
       "</div>"
      ],
      "text/plain": [
       "   codigo      celular       sexo vendeu hora        tipo como conheceu  \\\n",
       "1     1.0  15000000000   feminino    0.0   10  presencial          loja   \n",
       "2     2.0  13997623975   feminino    0.0   14  presencial          loja   \n",
       "3     3.0  15996177717  masculino    0.0   15  presencial          loja   \n",
       "\n",
       "        data consultor retorno  ...        20        21        22        23  \\\n",
       "1 2021-11-01       ari     nao  ... -0.162933 -0.339155  0.191005  0.132011   \n",
       "2 2021-11-01       ari     nao  ...  0.339292 -0.797030 -0.717007  0.855654   \n",
       "3 2021-11-01       ari     nao  ...  0.317740 -0.432469  0.303741  0.313728   \n",
       "\n",
       "         24        25        26        27        28        29  \n",
       "1  0.691260 -0.432091  0.318709 -0.903019 -0.476583 -0.348566  \n",
       "2  0.233326  0.122833  0.250123  0.073038  0.262659  0.472819  \n",
       "3 -0.290527  0.232926  0.337545 -0.416606  0.193758 -0.408968  \n",
       "\n",
       "[3 rows x 108 columns]"
      ]
     },
     "execution_count": 25,
     "metadata": {},
     "output_type": "execute_result"
    }
   ],
   "source": [
    "#removendo a linha 0 do dataset e inserindo 0 nos nan restantes\n",
    "result = result.drop(labels=0, axis=0)\n",
    "result = result.fillna(0)\n",
    "result.head(3)"
   ]
  },
  {
   "cell_type": "markdown",
   "id": "fc48d36e",
   "metadata": {},
   "source": [
    "### Criando o dataset final [df_final], após aplicar os tratamentos, a técnica bag-of-words e as concatenações."
   ]
  },
  {
   "cell_type": "code",
   "execution_count": 26,
   "id": "455fdb1b",
   "metadata": {},
   "outputs": [],
   "source": [
    "#criando o dataset final\n",
    "df_final = result"
   ]
  },
  {
   "cell_type": "code",
   "execution_count": 27,
   "id": "34b37a0a",
   "metadata": {
    "scrolled": true
   },
   "outputs": [
    {
     "data": {
      "text/plain": [
       "codigo     0\n",
       "celular    0\n",
       "sexo       0\n",
       "vendeu     0\n",
       "hora       0\n",
       "          ..\n",
       "25         0\n",
       "26         0\n",
       "27         0\n",
       "28         0\n",
       "29         0\n",
       "Length: 108, dtype: int64"
      ]
     },
     "execution_count": 27,
     "metadata": {},
     "output_type": "execute_result"
    }
   ],
   "source": [
    "#data set final, verificando se existe NaN no dataset_final.\n",
    "df_final.isna().sum()"
   ]
  },
  {
   "cell_type": "markdown",
   "id": "245672ae",
   "metadata": {},
   "source": [
    "### Splitando os dados"
   ]
  },
  {
   "cell_type": "code",
   "execution_count": 28,
   "id": "a1e1c134",
   "metadata": {},
   "outputs": [],
   "source": [
    "#separando os dados para treino e test\n",
    "# 70 % de treino e 30% de test:\n",
    "split_size = 0.7\n",
    "mask = np.random.rand(len(df_final)) < split_size\n",
    "test_df = df_final[~mask]\n",
    "train_df =df_final[mask]"
   ]
  },
  {
   "cell_type": "code",
   "execution_count": 29,
   "id": "c7af52de",
   "metadata": {},
   "outputs": [
    {
     "data": {
      "text/plain": [
       "(564, 108)"
      ]
     },
     "execution_count": 29,
     "metadata": {},
     "output_type": "execute_result"
    }
   ],
   "source": [
    "train_df.shape"
   ]
  },
  {
   "cell_type": "code",
   "execution_count": 30,
   "id": "c03f578b",
   "metadata": {
    "scrolled": true
   },
   "outputs": [
    {
     "data": {
      "text/plain": [
       "(221, 108)"
      ]
     },
     "execution_count": 30,
     "metadata": {},
     "output_type": "execute_result"
    }
   ],
   "source": [
    "test_df.shape"
   ]
  },
  {
   "cell_type": "markdown",
   "id": "ea866c86",
   "metadata": {},
   "source": [
    "### Separando os conjuntos de dados em Treino e Teste"
   ]
  },
  {
   "cell_type": "code",
   "execution_count": 31,
   "id": "1ff40d9e",
   "metadata": {},
   "outputs": [],
   "source": [
    "#criando o X e o Y do dataset final\n",
    "x_columns = list(df_final.columns)\n",
    "#removendo as colunas de não interesse do X\n",
    "x_columns = df_final.drop(columns=['vendeu','codigo','celular']).columns\n",
    "#criando os X e os Y, para treino e teste\n",
    "y_column = [\"vendeu\"]\n",
    "X_train = train_df[x_columns]\n",
    "y_train = train_df[y_column]\n",
    "X_test = test_df[x_columns]\n",
    "y_test = test_df[y_column]"
   ]
  },
  {
   "cell_type": "markdown",
   "id": "7ea9cba1",
   "metadata": {},
   "source": [
    "### Aplicando o pré processamento Ordinal Encoder no X_train e no X_test"
   ]
  },
  {
   "cell_type": "code",
   "execution_count": 32,
   "id": "99451e96",
   "metadata": {
    "scrolled": true
   },
   "outputs": [],
   "source": [
    "# pré processamento, transformando o dataset para valores numéricos com o Ordinal Encoder\n",
    "data_encoder = OrdinalEncoder(handle_unknown = \"use_encoded_value\", unknown_value = -1)\n",
    "# passando o data_encoder no X_train\n",
    "X_train = data_encoder.fit_transform(X_train)\n",
    "# passando o data_encoder no X_test\n",
    "X_test = data_encoder.transform(X_test)"
   ]
  },
  {
   "cell_type": "markdown",
   "id": "180af725",
   "metadata": {},
   "source": [
    "### Aplicando a técnica SMOTE no X_train e no Y_train, para ajudar no desbalanceamento do conjunto de dados"
   ]
  },
  {
   "cell_type": "code",
   "execution_count": 33,
   "id": "048c9612",
   "metadata": {},
   "outputs": [],
   "source": [
    "#Aplicando a técnica SMOTE, para balancear a base.\n",
    "oversample = imblearn.over_sampling.SMOTE()\n",
    "X_train, y_train = oversample.fit_resample(X_train, y_train)"
   ]
  },
  {
   "cell_type": "markdown",
   "id": "f38cdf7d",
   "metadata": {},
   "source": [
    "## Construindo os Métodos de Classificação,  com os dados processados pela técnica do Bag-of-Words "
   ]
  },
  {
   "cell_type": "markdown",
   "id": "d601487d",
   "metadata": {},
   "source": [
    "### Aplicando o modelo classificador XGBoost - (Extreme Gradient Boost )"
   ]
  },
  {
   "cell_type": "code",
   "execution_count": 34,
   "id": "c17cfbfc",
   "metadata": {},
   "outputs": [
    {
     "name": "stderr",
     "output_type": "stream",
     "text": [
      "C:\\Users\\sesch\\AppData\\Roaming\\Python\\Python39\\site-packages\\xgboost\\sklearn.py:1224: UserWarning: The use of label encoder in XGBClassifier is deprecated and will be removed in a future release. To remove this warning, do the following: 1) Pass option use_label_encoder=False when constructing XGBClassifier object; and 2) Encode your labels (y) as integers starting with 0, i.e. 0, 1, 2, ..., [num_class - 1].\n",
      "  warnings.warn(label_encoder_deprecation_msg, UserWarning)\n"
     ]
    },
    {
     "name": "stdout",
     "output_type": "stream",
     "text": [
      "Modelo XGBoost, métricas de validação para o conjunto de Teste:\n",
      "                   precision    recall  f1-score   support\n",
      "\n",
      "não venderá  0.0       0.93      0.96      0.95       191\n",
      "    venderá  1.0       0.70      0.53      0.60        30\n",
      "\n",
      "        accuracy                           0.90       221\n",
      "       macro avg       0.81      0.75      0.77       221\n",
      "    weighted avg       0.90      0.90      0.90       221\n",
      "\n"
     ]
    }
   ],
   "source": [
    "#carregando o modelo extreme gradient boosting (XGBoost) - Classifier\n",
    "clf_XGB = xgb.XGBClassifier(n_estimators=100, max_depth=8, learning_rate=.1,subsample=.5, use_label_encoder=True,eval_metric='mlogloss')\n",
    "#treino do extreme gradient boosting (XGBoost)\n",
    "xgm=clf_XGB.fit(X_train,y_train.values.ravel())\n",
    "#gerando a predição do classificador extreme gradient boosting (XGBoost) - no conj. de teste\n",
    "y_pred = xgm.predict(X_test)\n",
    "# métricas de Validação para o XGBoost no conjunto de Teste\n",
    "target_names = ['não venderá  0.0', 'venderá  1.0']\n",
    "print (\"Modelo XGBoost, métricas de validação para o conjunto de Teste:\\n\", classification_report(y_test, y_pred, target_names=target_names))"
   ]
  },
  {
   "cell_type": "markdown",
   "id": "96a48d3c",
   "metadata": {},
   "source": [
    "### Aplicando o modelo classificador LightGBM - ( Light Gradient Boosting Machine )\n"
   ]
  },
  {
   "cell_type": "code",
   "execution_count": 35,
   "id": "4d4940c0",
   "metadata": {},
   "outputs": [
    {
     "name": "stdout",
     "output_type": "stream",
     "text": [
      "Modelo LightGBM Classifier, métricas de validação para o conjunto de Teste:\n",
      "                   precision    recall  f1-score   support\n",
      "\n",
      "não venderá  0.0       0.91      0.98      0.95       191\n",
      "    venderá  1.0       0.80      0.40      0.53        30\n",
      "\n",
      "        accuracy                           0.90       221\n",
      "       macro avg       0.86      0.69      0.74       221\n",
      "    weighted avg       0.90      0.90      0.89       221\n",
      "\n"
     ]
    }
   ],
   "source": [
    "#carregando o modelo (lightgbm) - Classifier\n",
    "clf_LGBM = lgb.LGBMClassifier(num_leaves=31, max_depth=- 1, learning_rate=0.1, n_estimators=100, xgboost_dart_mode = True)\n",
    "#treino do (lightgbm) - Classifier\n",
    "LGBM =clf_LGBM.fit(X_train,y_train.values.ravel())\n",
    "#gerando a predição do classificador (lightgbm) - Classifier - no conj. de teste\n",
    "y_pred2 = LGBM.predict(X_test)\n",
    "#métricas de Validação para o lightgbm Classifier no conjunto de Teste\n",
    "print (\"Modelo LightGBM Classifier, métricas de validação para o conjunto de Teste:\\n\", classification_report(y_test, y_pred2, target_names=target_names))"
   ]
  },
  {
   "cell_type": "markdown",
   "id": "c885a040",
   "metadata": {},
   "source": [
    "### Aplicando o modelo Random Forest Classifier"
   ]
  },
  {
   "cell_type": "code",
   "execution_count": 36,
   "id": "80e25135",
   "metadata": {},
   "outputs": [
    {
     "name": "stdout",
     "output_type": "stream",
     "text": [
      "Modelo Random Forest, métricas de validação para o conjunto de Teste:\n",
      "                   precision    recall  f1-score   support\n",
      "\n",
      "não venderá  0.0       0.91      0.96      0.93       191\n",
      "    venderá  1.0       0.60      0.40      0.48        30\n",
      "\n",
      "        accuracy                           0.88       221\n",
      "       macro avg       0.76      0.68      0.71       221\n",
      "    weighted avg       0.87      0.88      0.87       221\n",
      "\n"
     ]
    }
   ],
   "source": [
    "#carregando o modelo\n",
    "clf=RandomForestClassifier(n_estimators=200,max_depth=8, random_state=7)\n",
    "#treinando o modelo\n",
    "clf.fit(X_train,y_train.values.ravel())\n",
    "#predizendo o modelo\n",
    "y_pred4=clf.predict(X_test)\n",
    "#métricas de Validação para o random forest no conjunto de Teste\n",
    "print (\"Modelo Random Forest, métricas de validação para o conjunto de Teste:\\n\", classification_report(y_test, y_pred4, target_names=target_names))"
   ]
  },
  {
   "cell_type": "markdown",
   "id": "5e86eb34",
   "metadata": {},
   "source": [
    "\n",
    "### Construindo os gráficos da rede neural classificadora "
   ]
  },
  {
   "cell_type": "code",
   "execution_count": 37,
   "id": "77b1d1fe",
   "metadata": {},
   "outputs": [],
   "source": [
    "#funções de plot\n",
    "def plot_loss(history):\n",
    "    plt.plot(history.history['loss'], label='loss')\n",
    "    plt.plot(history.history['val_loss'], label='val_loss')\n",
    "    plt.xlabel('Épocas')\n",
    "    plt.ylabel('Erro')\n",
    "    plt.legend()\n",
    "    plt.grid(True)\n",
    "\n",
    "\n",
    "def plot_acc(history):\n",
    "    plt.plot(history.history['accuracy'], label='acc')\n",
    "    plt.plot(history.history['val_accuracy'], label='val_acc')\n",
    "    plt.xlabel('Épocas')\n",
    "    plt.ylabel('Acurácia')\n",
    "    plt.legend()\n",
    "    plt.grid(True)"
   ]
  },
  {
   "cell_type": "markdown",
   "id": "8113ff62",
   "metadata": {},
   "source": [
    "### Normalização do X_train para ser usado na rede neural"
   ]
  },
  {
   "cell_type": "code",
   "execution_count": 38,
   "id": "4681a669",
   "metadata": {},
   "outputs": [],
   "source": [
    "#normalização\n",
    "normalizer = preprocessing.Normalization()\n",
    "normalizer.adapt(X_train)"
   ]
  },
  {
   "cell_type": "markdown",
   "id": "f49bfc6c",
   "metadata": {},
   "source": [
    "### Transformando y_train e y_test para valores numéricos, para serem usados na rede neural"
   ]
  },
  {
   "cell_type": "code",
   "execution_count": 39,
   "id": "15d2c8e2",
   "metadata": {},
   "outputs": [],
   "source": [
    "#passando de texto para int.\n",
    "y_train_rede = pd.to_numeric(y_train.values.ravel())\n",
    "#passando de texto para int.\n",
    "y_test_rede = pd.to_numeric(y_test.values.ravel())"
   ]
  },
  {
   "cell_type": "markdown",
   "id": "cc30c874",
   "metadata": {},
   "source": [
    "### Construindo a Rede Neural Artificial - Classificadora"
   ]
  },
  {
   "cell_type": "code",
   "execution_count": 40,
   "id": "36429f0a",
   "metadata": {
    "scrolled": false
   },
   "outputs": [
    {
     "name": "stdout",
     "output_type": "stream",
     "text": [
      "Model: \"sequential\"\n",
      "_________________________________________________________________\n",
      " Layer (type)                Output Shape              Param #   \n",
      "=================================================================\n",
      " normalization (Normalizatio  (None, 165)              331       \n",
      " n)                                                              \n",
      "                                                                 \n",
      " dense (Dense)               (None, 35)                5810      \n",
      "                                                                 \n",
      " dense_1 (Dense)             (None, 1)                 36        \n",
      "                                                                 \n",
      "=================================================================\n",
      "Total params: 6,177\n",
      "Trainable params: 5,846\n",
      "Non-trainable params: 331\n",
      "_________________________________________________________________\n",
      "Epoch 1/35\n",
      "81/81 [==============================] - 1s 3ms/step - loss: 0.7173 - accuracy: 0.6032 - val_loss: 0.7053 - val_accuracy: 0.5545\n",
      "Epoch 2/35\n",
      "81/81 [==============================] - 0s 1ms/step - loss: 0.4772 - accuracy: 0.7898 - val_loss: 0.6466 - val_accuracy: 0.6782\n",
      "Epoch 3/35\n",
      "81/81 [==============================] - 0s 1ms/step - loss: 0.3977 - accuracy: 0.8483 - val_loss: 0.5540 - val_accuracy: 0.7624\n",
      "Epoch 4/35\n",
      "81/81 [==============================] - 0s 1ms/step - loss: 0.3440 - accuracy: 0.8781 - val_loss: 0.4800 - val_accuracy: 0.8168\n",
      "Epoch 5/35\n",
      "81/81 [==============================] - 0s 2ms/step - loss: 0.3053 - accuracy: 0.8893 - val_loss: 0.4155 - val_accuracy: 0.8663\n",
      "Epoch 6/35\n",
      "81/81 [==============================] - 0s 2ms/step - loss: 0.2754 - accuracy: 0.9067 - val_loss: 0.3671 - val_accuracy: 0.8911\n",
      "Epoch 7/35\n",
      "81/81 [==============================] - 0s 2ms/step - loss: 0.2519 - accuracy: 0.9142 - val_loss: 0.3236 - val_accuracy: 0.9109\n",
      "Epoch 8/35\n",
      "81/81 [==============================] - 0s 2ms/step - loss: 0.2326 - accuracy: 0.9216 - val_loss: 0.2925 - val_accuracy: 0.9307\n",
      "Epoch 9/35\n",
      "81/81 [==============================] - 0s 2ms/step - loss: 0.2172 - accuracy: 0.9303 - val_loss: 0.2677 - val_accuracy: 0.9406\n",
      "Epoch 10/35\n",
      "81/81 [==============================] - 0s 1ms/step - loss: 0.2040 - accuracy: 0.9378 - val_loss: 0.2471 - val_accuracy: 0.9455\n",
      "Epoch 11/35\n",
      "81/81 [==============================] - 0s 2ms/step - loss: 0.1928 - accuracy: 0.9403 - val_loss: 0.2307 - val_accuracy: 0.9505\n",
      "Epoch 12/35\n",
      "81/81 [==============================] - 0s 2ms/step - loss: 0.1831 - accuracy: 0.9403 - val_loss: 0.2144 - val_accuracy: 0.9554\n",
      "Epoch 13/35\n",
      "81/81 [==============================] - 0s 2ms/step - loss: 0.1744 - accuracy: 0.9453 - val_loss: 0.2015 - val_accuracy: 0.9604\n",
      "Epoch 14/35\n",
      "81/81 [==============================] - 0s 1ms/step - loss: 0.1670 - accuracy: 0.9527 - val_loss: 0.1961 - val_accuracy: 0.9604\n",
      "Epoch 15/35\n",
      "81/81 [==============================] - 0s 2ms/step - loss: 0.1599 - accuracy: 0.9515 - val_loss: 0.1872 - val_accuracy: 0.9604\n",
      "Epoch 16/35\n",
      "81/81 [==============================] - 0s 2ms/step - loss: 0.1539 - accuracy: 0.9527 - val_loss: 0.1771 - val_accuracy: 0.9703\n",
      "Epoch 17/35\n",
      "81/81 [==============================] - 0s 2ms/step - loss: 0.1482 - accuracy: 0.9577 - val_loss: 0.1696 - val_accuracy: 0.9752\n",
      "Epoch 18/35\n",
      "81/81 [==============================] - 0s 2ms/step - loss: 0.1430 - accuracy: 0.9590 - val_loss: 0.1614 - val_accuracy: 0.9802\n",
      "Epoch 19/35\n",
      "81/81 [==============================] - 0s 2ms/step - loss: 0.1382 - accuracy: 0.9627 - val_loss: 0.1587 - val_accuracy: 0.9802\n",
      "Epoch 20/35\n",
      "81/81 [==============================] - 0s 2ms/step - loss: 0.1338 - accuracy: 0.9664 - val_loss: 0.1516 - val_accuracy: 0.9802\n",
      "Epoch 21/35\n",
      "81/81 [==============================] - 0s 2ms/step - loss: 0.1298 - accuracy: 0.9677 - val_loss: 0.1473 - val_accuracy: 0.9752\n",
      "Epoch 22/35\n",
      "81/81 [==============================] - 0s 2ms/step - loss: 0.1259 - accuracy: 0.9664 - val_loss: 0.1435 - val_accuracy: 0.9752\n",
      "Epoch 23/35\n",
      "81/81 [==============================] - 0s 1ms/step - loss: 0.1225 - accuracy: 0.9689 - val_loss: 0.1397 - val_accuracy: 0.9752\n",
      "Epoch 24/35\n",
      "81/81 [==============================] - 0s 1ms/step - loss: 0.1193 - accuracy: 0.9689 - val_loss: 0.1372 - val_accuracy: 0.9752\n",
      "Epoch 25/35\n",
      "81/81 [==============================] - 0s 2ms/step - loss: 0.1162 - accuracy: 0.9701 - val_loss: 0.1333 - val_accuracy: 0.9802\n",
      "Epoch 26/35\n",
      "81/81 [==============================] - 0s 1ms/step - loss: 0.1133 - accuracy: 0.9701 - val_loss: 0.1310 - val_accuracy: 0.9752\n",
      "Epoch 27/35\n",
      "81/81 [==============================] - 0s 2ms/step - loss: 0.1105 - accuracy: 0.9714 - val_loss: 0.1266 - val_accuracy: 0.9802\n",
      "Epoch 28/35\n",
      "81/81 [==============================] - 0s 1ms/step - loss: 0.1080 - accuracy: 0.9714 - val_loss: 0.1250 - val_accuracy: 0.9802\n",
      "Epoch 29/35\n",
      "81/81 [==============================] - 0s 2ms/step - loss: 0.1057 - accuracy: 0.9739 - val_loss: 0.1237 - val_accuracy: 0.9802\n",
      "Epoch 30/35\n",
      "81/81 [==============================] - 0s 1ms/step - loss: 0.1032 - accuracy: 0.9726 - val_loss: 0.1184 - val_accuracy: 0.9901\n",
      "Epoch 31/35\n",
      "81/81 [==============================] - 0s 2ms/step - loss: 0.1010 - accuracy: 0.9764 - val_loss: 0.1169 - val_accuracy: 0.9901\n",
      "Epoch 32/35\n",
      "81/81 [==============================] - 0s 2ms/step - loss: 0.0991 - accuracy: 0.9751 - val_loss: 0.1153 - val_accuracy: 0.9901\n",
      "Epoch 33/35\n",
      "81/81 [==============================] - 0s 2ms/step - loss: 0.0970 - accuracy: 0.9764 - val_loss: 0.1130 - val_accuracy: 0.9901\n",
      "Epoch 34/35\n",
      "81/81 [==============================] - 0s 2ms/step - loss: 0.0952 - accuracy: 0.9764 - val_loss: 0.1097 - val_accuracy: 0.9901\n",
      "Epoch 35/35\n",
      "81/81 [==============================] - 0s 2ms/step - loss: 0.0934 - accuracy: 0.9789 - val_loss: 0.1089 - val_accuracy: 0.9901\n"
     ]
    }
   ],
   "source": [
    "model = keras.Sequential([\n",
    "    normalizer,\n",
    "    layers.Dense(35, activation='relu'), #camada intermediaria # relu\n",
    "    layers.Dense(1, activation='sigmoid') #camada de saída sigmoid (para sair 0 ou 1) \n",
    "])\n",
    "\n",
    "model.summary()\n",
    "\n",
    "model.compile(optimizer='sgd',#otimizador\"sgd\"\n",
    "              loss='binary_crossentropy',#duas classes na saida,0 ou 1 binary_crossentropy\n",
    "              metrics=['accuracy'])#métrica\n",
    "\n",
    "history = model.fit(\n",
    "    X_train, y_train_rede,\n",
    "    epochs=35,#épocas para treinamento\n",
    "    validation_split = 0.2,#tamanho do split\n",
    "    batch_size=10,#tamanho do batch no treinamento\n",
    "    verbose=1#mostrar andamento no treinamento\n",
    "    )"
   ]
  },
  {
   "cell_type": "markdown",
   "id": "3ea0b2fb",
   "metadata": {},
   "source": [
    "### Gráfico do Loss do treinamento da Rede Neural"
   ]
  },
  {
   "cell_type": "code",
   "execution_count": 41,
   "id": "cfbe40c6",
   "metadata": {
    "scrolled": true
   },
   "outputs": [
    {
     "data": {
      "image/png": "[encoded data removed]",
      "text/plain": [
       "<Figure size 432x288 with 1 Axes>"
      ]
     },
     "metadata": {},
     "output_type": "display_data"
    }
   ],
   "source": [
    "plot_loss(history)"
   ]
  },
  {
   "cell_type": "markdown",
   "id": "0e230e0e",
   "metadata": {},
   "source": [
    "### Gráfico da Acurácia do treinamento da Rede Neural"
   ]
  },
  {
   "cell_type": "code",
   "execution_count": 42,
   "id": "a864892b",
   "metadata": {
    "scrolled": true
   },
   "outputs": [
    {
     "data": {
      "image/png": "[encoded data removed]",
      "text/plain": [
       "<Figure size 432x288 with 1 Axes>"
      ]
     },
     "metadata": {},
     "output_type": "display_data"
    }
   ],
   "source": [
    "plot_acc(history)"
   ]
  },
  {
   "cell_type": "markdown",
   "id": "82932c83",
   "metadata": {},
   "source": [
    "### Predição e Evaluate da Rede Neural Artificial"
   ]
  },
  {
   "cell_type": "code",
   "execution_count": 43,
   "id": "9be44965",
   "metadata": {},
   "outputs": [
    {
     "name": "stdout",
     "output_type": "stream",
     "text": [
      "7/7 [==============================] - 0s 2ms/step - loss: 4443.6782 - accuracy: 0.8597\n",
      "[4443.67822265625, 0.8597285151481628]\n"
     ]
    }
   ],
   "source": [
    "y_pred5 = model.predict(X_test)\n",
    "score = model.evaluate(X_test, y_test_rede,verbose=1)\n",
    "print(score)"
   ]
  },
  {
   "cell_type": "markdown",
   "id": "2e5c6685",
   "metadata": {},
   "source": [
    "### Aplicando as Métricas de Validação na Rede Neural"
   ]
  },
  {
   "cell_type": "code",
   "execution_count": 44,
   "id": "a1102589",
   "metadata": {
    "scrolled": true
   },
   "outputs": [
    {
     "name": "stdout",
     "output_type": "stream",
     "text": [
      "A acuracia para o Modelo Rede Neural Classificadora é:\n",
      " 85.97285067873304\n",
      "O macro AVG no F1-Score para o Modelo Rede Neural Classificadora é:\n",
      " 69.68181617028809\n",
      "Os F1-Score para Não Venderá e Venderá no Modelo Rede Neural Classificadora são:\n",
      " [91.90600522 47.45762712]\n"
     ]
    }
   ],
   "source": [
    "#Acurácia\n",
    "accuracy = accuracy_score(np.round(y_pred5), y_test_rede)\n",
    "#Macro Average\n",
    "macro_avg = f1_score(np.round(y_pred5), y_test_rede, average='macro')\n",
    "#F1-Score\n",
    "f1 = f1_score(np.round(y_pred5), y_test_rede, average= None)\n",
    "\n",
    "# Acurácia para a rede neural\n",
    "print (\"A acuracia para o Modelo Rede Neural Classificadora é:\\n\", accuracy*100)\n",
    "# Macro AVG no F1-score para a rede neural\n",
    "print (\"O macro AVG no F1-Score para o Modelo Rede Neural Classificadora é:\\n\", macro_avg*100)\n",
    "# F1- Score para a rede neural\n",
    "print (\"Os F1-Score para Não Venderá e Venderá no Modelo Rede Neural Classificadora são:\\n\", f1*100)"
   ]
  },
  {
   "cell_type": "markdown",
   "id": "13e85284",
   "metadata": {},
   "source": [
    "### Resultados Finais dos Métodos de Classificação, Treinados com a Técnica de Bag-of-words"
   ]
  },
  {
   "cell_type": "code",
   "execution_count": 45,
   "id": "a4e59ba9",
   "metadata": {
    "scrolled": true
   },
   "outputs": [
    {
     "name": "stdout",
     "output_type": "stream",
     "text": [
      "Modelo XGBoost, métricas de validação para o conjunto de Teste:\n",
      "                   precision    recall  f1-score   support\n",
      "\n",
      "não venderá  0.0       0.93      0.96      0.95       191\n",
      "    venderá  1.0       0.70      0.53      0.60        30\n",
      "\n",
      "        accuracy                           0.90       221\n",
      "       macro avg       0.81      0.75      0.77       221\n",
      "    weighted avg       0.90      0.90      0.90       221\n",
      "\n",
      "Modelo LightGBM Classifier, métricas de validação para o conjunto de Teste:\n",
      "                   precision    recall  f1-score   support\n",
      "\n",
      "não venderá  0.0       0.91      0.98      0.95       191\n",
      "    venderá  1.0       0.80      0.40      0.53        30\n",
      "\n",
      "        accuracy                           0.90       221\n",
      "       macro avg       0.86      0.69      0.74       221\n",
      "    weighted avg       0.90      0.90      0.89       221\n",
      "\n",
      "Modelo Random Forest, métricas de validação para o conjunto de Teste:\n",
      "                   precision    recall  f1-score   support\n",
      "\n",
      "não venderá  0.0       0.91      0.96      0.93       191\n",
      "    venderá  1.0       0.60      0.40      0.48        30\n",
      "\n",
      "        accuracy                           0.88       221\n",
      "       macro avg       0.76      0.68      0.71       221\n",
      "    weighted avg       0.87      0.88      0.87       221\n",
      "\n",
      "A Acurácia para o Modelo de Rede Neural Classificadora é: 86.0 %\n",
      "A Macro Averaging de F1-Score para o Modelo de Rede Neural Classificadora é: 70.0 %\n",
      "Os F1-Score para Não Venderá e Venderá, no Modelo Rede Neural Classificadora são: 92.0 % 47.0 %\n"
     ]
    }
   ],
   "source": [
    "print (\"Modelo XGBoost, métricas de validação para o conjunto de Teste:\\n\", classification_report(y_test, y_pred, target_names=target_names))\n",
    "print (\"Modelo LightGBM Classifier, métricas de validação para o conjunto de Teste:\\n\", classification_report(y_test, y_pred2, target_names=target_names))\n",
    "print (\"Modelo Random Forest, métricas de validação para o conjunto de Teste:\\n\", classification_report(y_test, y_pred4, target_names=target_names))\n",
    "print (\"A Acurácia para o Modelo de Rede Neural Classificadora é:\", accuracy.round(2)*100,\"%\")\n",
    "print (\"A Macro Averaging de F1-Score para o Modelo de Rede Neural Classificadora é:\", macro_avg.round(2)*100,\"%\")\n",
    "print (\"Os F1-Score para Não Venderá e Venderá, no Modelo Rede Neural Classificadora são:\", f1[0].round(2)*100,\"%\",f1[1].round(2)*100,\"%\" )"
   ]
  },
  {
   "cell_type": "markdown",
   "id": "a484379e",
   "metadata": {},
   "source": [
    "### Calculando os Predict Proba dos modelos, usando duas amostras, para o Target \"vendeu = 0  e vendeu = 1\", com a técnica Bag-of-Words"
   ]
  },
  {
   "cell_type": "code",
   "execution_count": 46,
   "id": "879e4493",
   "metadata": {
    "scrolled": false
   },
   "outputs": [
    {
     "name": "stdout",
     "output_type": "stream",
     "text": [
      "Probabilidade do vendeu = 0, para o modelo XGBoost: [[0.9186469  0.08135314]]\n",
      "Verificando se a previsão vendeu = 0 , coincide com a saída real ['0.0']\n",
      "Probabilidade do vendeu = 1, para o modelo XGBoost: [[0.08120978 0.9187902 ]]\n",
      "Verificando se a previsão vendeu = 1 , coincide com a saída real ['1.0']\n",
      "\n",
      "Probabilidade do vendeu = 0, para o modelo LightGBM: [[0.99341931 0.00658069]]\n",
      "Verificando se a previsão vendeu = 0 , coincide com a saída real ['0.0']\n",
      "Probabilidade do vendeu = 1, para o modelo LightGBM: [[0.11225604 0.88774396]]\n",
      "Verificando se a previsão vendeu = 1 , coincide com a saída real ['1.0']\n",
      "\n",
      "Probabilidade do vendeu = 0, para o modelo Random Forest: [[0.70788674 0.29211326]]\n",
      "Verificando se a previsão vendeu = 0 , coincide com a saída real ['0.0']\n",
      "Probabilidade do vendeu = 1, para o modelo Random Forest: [[0.25586451 0.74413549]]\n",
      "Verificando se a previsão vendeu = 1 , coincide com a saída real ['1.0']\n"
     ]
    }
   ],
   "source": [
    "#inserindo o predict proba para cada método método. \"Pegando \"duas\" amostras do dataset, \n",
    "#uma positiva e uma negativa - uma amostra com a coluna vendeu = 0 e outra com coluna vendeu=1\"\n",
    "\n",
    "# >> Predict Proba no XGBOOST:\n",
    "\n",
    "# predizendo em uma determinada posição do X_teste, onde \"vendeu\" = 0:\n",
    "y_pred_predict0_xgboost = xgm.predict_proba([X_test[0,:]])\n",
    "# probabilidade do vendeu = 0\n",
    "print('Probabilidade do vendeu = 0, para o modelo XGBoost:',y_pred_predict0_xgboost)\n",
    "#verificando se a coluna vendeu na posição 0 esta iagual a 0\n",
    "print('Verificando se a previsão vendeu = 0 , coincide com a saída real',y_test.values[0])\n",
    "\n",
    "# predizendo em uma determinada posição do X_teste, onde \"vendeu\" = 1:\n",
    "y_pred_predict1_xgboost = xgm.predict_proba([X_test[60,:]])\n",
    "# probabilidade do vendeu = 1\n",
    "print('Probabilidade do vendeu = 1, para o modelo XGBoost:',y_pred_predict1_xgboost)\n",
    "#verificando se a coluna vendeu na posição 60 esta igual a 1\n",
    "print('Verificando se a previsão vendeu = 1 , coincide com a saída real',y_test.values[60])\n",
    "\n",
    "# >> Predict Proba no lightGBM:\n",
    "\n",
    "# predizendo em uma determinada posição do X_teste, onde \"vendeu\" = 0:\n",
    "y_pred_predict0_lightgmb = LGBM.predict_proba([X_test[0,:]])\n",
    "# probabilidade do vendeu = 0\n",
    "print('\\nProbabilidade do vendeu = 0, para o modelo LightGBM:',y_pred_predict0_lightgmb)\n",
    "#verificando se a coluna vendeu na posição 0 esta iagual a 0\n",
    "print('Verificando se a previsão vendeu = 0 , coincide com a saída real',y_test.values[0])\n",
    "\n",
    "#predizendo em uma determinada posição do X_teste, onde \"vendeu\" = 1:\n",
    "y_pred_predict1_lightgmb = LGBM.predict_proba([X_test[60,:]])\n",
    "# probabilidade do vendeu = 1\n",
    "print('Probabilidade do vendeu = 1, para o modelo LightGBM:',y_pred_predict1_lightgmb)\n",
    "#verificando se a coluna vendeu na posição 60 esta igual a 1\n",
    "print('Verificando se a previsão vendeu = 1 , coincide com a saída real',y_test.values[60])\n",
    "\n",
    "# >> Predict Proba no Random Forest:\n",
    "\n",
    "# predizendo em uma determinada posição do X_teste, onde \"vendeu\" = 0:\n",
    "y_pred_predict0_clf = clf.predict_proba([X_test[0,:]])\n",
    "# probabilidade do vendeu = 0\n",
    "print('\\nProbabilidade do vendeu = 0, para o modelo Random Forest:',y_pred_predict0_clf)\n",
    "#verificando se a coluna vendeu na posição 0 esta iagual a 0\n",
    "print('Verificando se a previsão vendeu = 0 , coincide com a saída real',y_test.values[0])\n",
    "\n",
    "#predizendo em uma determinada posição do X_teste, onde \"vendeu\" = 1:\n",
    "y_pred_predict1_clf = clf.predict_proba([X_test[60,:]])\n",
    "# probabilidade do vendeu = 1\n",
    "print('Probabilidade do vendeu = 1, para o modelo Random Forest:',y_pred_predict1_clf)\n",
    "#verificando se a coluna vendeu na posição 60 esta igual a 1\n",
    "print('Verificando se a previsão vendeu = 1 , coincide com a saída real',y_test.values[60])\n",
    "\n",
    "#primeira coluna é a probabilidade de ser 0\n",
    "#segunda coluna é a probabilidade de ser 1"
   ]
  },
  {
   "cell_type": "markdown",
   "id": "0be4627e",
   "metadata": {},
   "source": [
    "## Construindo os Métodos de Classificação,  com os dados sem usar a técnica do Bag-of-Words "
   ]
  },
  {
   "cell_type": "markdown",
   "id": "5580efea",
   "metadata": {},
   "source": [
    "### Separando os dados em Treino e Teste"
   ]
  },
  {
   "cell_type": "code",
   "execution_count": 47,
   "id": "6d39fcf4",
   "metadata": {},
   "outputs": [],
   "source": [
    "#separando os dados para treino e test, sem aplicar o bag of words\n",
    "# 70 % de treino e 30% de test:\n",
    "split_size = 0.7\n",
    "mask = np.random.rand(len(df)) < split_size\n",
    "test_df_2 = df[~mask]\n",
    "train_df_2 =df[mask]\n",
    "\n",
    "#criando o X e o Y do dataset final\n",
    "x_columns_2 = list(df.columns)\n",
    "#removendo as colunas de não interesse do X\n",
    "x_columns_2 = df.drop(columns=['vendeu','codigo','celular']).columns\n",
    "#criando os X e os Y, para treino e teste\n",
    "y_column_2 = [\"vendeu\"]\n",
    "X_train_2 = train_df_2[x_columns_2]\n",
    "y_train_2 = train_df_2[y_column_2]\n",
    "X_test_2 = test_df_2[x_columns_2]\n",
    "y_test_2 = test_df_2[y_column_2]"
   ]
  },
  {
   "cell_type": "markdown",
   "id": "741dce96",
   "metadata": {},
   "source": [
    "### Aplicando o Ordinal Encoder no X_train e X_test"
   ]
  },
  {
   "cell_type": "code",
   "execution_count": 48,
   "id": "0836be6e",
   "metadata": {},
   "outputs": [],
   "source": [
    "# pré processamento, transformando o dataset para valores numéricos com o Ordinal Encoder\n",
    "data_encoder_2 = OrdinalEncoder(handle_unknown = \"use_encoded_value\", unknown_value = -1)\n",
    "# passando o data_encoder no X_train\n",
    "X_train_2 = data_encoder_2.fit_transform(X_train_2)\n",
    "# passando o data_encoder no X_test\n",
    "X_test_2 = data_encoder_2.transform(X_test_2)"
   ]
  },
  {
   "cell_type": "markdown",
   "id": "1aa1cd9d",
   "metadata": {},
   "source": [
    "### Aplicando a técnica SMOTE no X_train e no y_train"
   ]
  },
  {
   "cell_type": "code",
   "execution_count": 49,
   "id": "61980240",
   "metadata": {},
   "outputs": [],
   "source": [
    "# APLICAR O SMOTE PARA BALANCEAR A BASE, SEM O BAG-OF-WORDS\n",
    "oversample = imblearn.over_sampling.SMOTE()\n",
    "X_train_2, y_train_2 = oversample.fit_resample(X_train_2, y_train_2)"
   ]
  },
  {
   "cell_type": "markdown",
   "id": "ba498ae0",
   "metadata": {},
   "source": [
    "## Aplicando os métodos de classificação, sem utilizar a técnica do Bag-of-words."
   ]
  },
  {
   "cell_type": "markdown",
   "id": "38968985",
   "metadata": {},
   "source": [
    "### Aplicando o método XGBoost - (Extreme Gradient Boost ) - Sem utilizar o Bag-of-Words"
   ]
  },
  {
   "cell_type": "code",
   "execution_count": 50,
   "id": "5195421a",
   "metadata": {},
   "outputs": [
    {
     "name": "stdout",
     "output_type": "stream",
     "text": [
      "Modelo XGBoost, métricas de validação para o conjunto de Teste:\n",
      "                   precision    recall  f1-score   support\n",
      "\n",
      "não venderá  0.0       0.93      0.96      0.95       203\n",
      "    venderá  1.0       0.65      0.52      0.58        29\n",
      "\n",
      "        accuracy                           0.91       232\n",
      "       macro avg       0.79      0.74      0.76       232\n",
      "    weighted avg       0.90      0.91      0.90       232\n",
      "\n"
     ]
    },
    {
     "name": "stderr",
     "output_type": "stream",
     "text": [
      "C:\\Users\\sesch\\AppData\\Roaming\\Python\\Python39\\site-packages\\xgboost\\sklearn.py:1224: UserWarning: The use of label encoder in XGBClassifier is deprecated and will be removed in a future release. To remove this warning, do the following: 1) Pass option use_label_encoder=False when constructing XGBClassifier object; and 2) Encode your labels (y) as integers starting with 0, i.e. 0, 1, 2, ..., [num_class - 1].\n",
      "  warnings.warn(label_encoder_deprecation_msg, UserWarning)\n"
     ]
    }
   ],
   "source": [
    "# carregando o modelo extreme gradient boosting (XGBoost) - Classifier\n",
    "clf_XGB_2 = xgb.XGBClassifier(n_estimators=100, max_depth=8, learning_rate=.1,subsample=.5, use_label_encoder=True,eval_metric='mlogloss')\n",
    "# treino do extreme gradient boosting (XGBoost)\n",
    "xgm2=clf_XGB_2.fit(X_train_2,y_train_2.values.ravel())\n",
    "# gerando a predição do classificador extreme gradient boosting (XGBoost) - no conj. de teste\n",
    "y_pred_XGB = xgm2.predict(X_test_2)\n",
    "# métricas de Validação para o XGBoost no conjunto de Teste\n",
    "target_names = ['não venderá  0.0', 'venderá  1.0']\n",
    "print (\"Modelo XGBoost, métricas de validação para o conjunto de Teste:\\n\", classification_report(y_test_2, y_pred_XGB, target_names=target_names))"
   ]
  },
  {
   "cell_type": "markdown",
   "id": "fbdaa3a7",
   "metadata": {},
   "source": [
    "### Aplicando o método LightGBM-(Light Gradient Boosting Machine) - Sem utilizar o Bag-of-Words"
   ]
  },
  {
   "cell_type": "code",
   "execution_count": 51,
   "id": "811543b2",
   "metadata": {},
   "outputs": [
    {
     "name": "stdout",
     "output_type": "stream",
     "text": [
      "Modelo LightGBM Classifier, métricas de validação para o conjunto de Teste:\n",
      "                   precision    recall  f1-score   support\n",
      "\n",
      "não venderá  0.0       0.92      0.97      0.94       203\n",
      "    venderá  1.0       0.65      0.45      0.53        29\n",
      "\n",
      "        accuracy                           0.90       232\n",
      "       macro avg       0.79      0.71      0.74       232\n",
      "    weighted avg       0.89      0.90      0.89       232\n",
      "\n"
     ]
    }
   ],
   "source": [
    "# caregando o modelo (lightgbm) - Classifier\n",
    "clf_LGBM_2 = lgb.LGBMClassifier(num_leaves=31, max_depth=- 1, learning_rate=0.1, n_estimators=100, xgboost_dart_mode = True)\n",
    "# treino do (lightgbm) - Classifier\n",
    "LGBM_2 =clf_LGBM_2.fit(X_train_2,y_train_2.values.ravel())\n",
    "# gerando a predição do classificador (lightgbm) - Classifier - no conj. de teste\n",
    "y_pred_LGBM = LGBM_2.predict(X_test_2)\n",
    "# métricas de Validação para o lightgbm Classifier no conjunto de Teste\n",
    "print (\"Modelo LightGBM Classifier, métricas de validação para o conjunto de Teste:\\n\", classification_report(y_test_2, y_pred_LGBM, target_names=target_names))"
   ]
  },
  {
   "cell_type": "markdown",
   "id": "b596fbe1",
   "metadata": {},
   "source": [
    "### Aplicando o método Random Forest Classifier - sem utilizar o Bag-of-Words"
   ]
  },
  {
   "cell_type": "code",
   "execution_count": 52,
   "id": "fa9085d7",
   "metadata": {
    "scrolled": true
   },
   "outputs": [
    {
     "name": "stdout",
     "output_type": "stream",
     "text": [
      "Modelo Random Forest, métricas de validação para o conjunto de Teste:\n",
      "                   precision    recall  f1-score   support\n",
      "\n",
      "não venderá  0.0       0.93      0.93      0.93       203\n",
      "    venderá  1.0       0.48      0.48      0.48        29\n",
      "\n",
      "        accuracy                           0.87       232\n",
      "       macro avg       0.70      0.70      0.70       232\n",
      "    weighted avg       0.87      0.87      0.87       232\n",
      "\n"
     ]
    }
   ],
   "source": [
    "# caregando o modelo Random Forest Classifier\n",
    "clf_2=RandomForestClassifier(n_estimators=200,max_depth=8, random_state=7)\n",
    "# treino do modelo\n",
    "clf_2.fit(X_train_2,y_train_2.values.ravel())\n",
    "# predict do modelo\n",
    "y_pred_clf=clf_2.predict(X_test_2)\n",
    "# métricas de Validação para o random forest no conjunto de Teste\n",
    "print (\"Modelo Random Forest, métricas de validação para o conjunto de Teste:\\n\", classification_report(y_test_2, y_pred_clf, target_names=target_names))"
   ]
  },
  {
   "cell_type": "markdown",
   "id": "47bda6df",
   "metadata": {},
   "source": [
    "### Construindo a rede neural classificadora - Sem passar os dados pelo Bag-of-Words"
   ]
  },
  {
   "cell_type": "markdown",
   "id": "efa7737e",
   "metadata": {},
   "source": [
    "### Aplicando a normalização no X_train, para ser usado na rede neural"
   ]
  },
  {
   "cell_type": "code",
   "execution_count": 53,
   "id": "07d64016",
   "metadata": {},
   "outputs": [],
   "source": [
    "#normalização\n",
    "normalizer_2 = preprocessing.Normalization()\n",
    "normalizer_2.adapt(X_train_2)"
   ]
  },
  {
   "cell_type": "markdown",
   "id": "7d04613e",
   "metadata": {},
   "source": [
    "### Transformando y_train e y_test para valores numéricos, para serem usados na rede neural"
   ]
  },
  {
   "cell_type": "code",
   "execution_count": 54,
   "id": "aa6437b1",
   "metadata": {},
   "outputs": [],
   "source": [
    "#passando de texto para int.\n",
    "y_train_rede_2 = pd.to_numeric(y_train_2.values.ravel())\n",
    "#passando de texto para int.\n",
    "y_test_rede_2 = pd.to_numeric(y_test_2.values.ravel())"
   ]
  },
  {
   "cell_type": "markdown",
   "id": "685fd747",
   "metadata": {},
   "source": [
    "### Construindo a Rede Neural Artificial - Classificadora"
   ]
  },
  {
   "cell_type": "code",
   "execution_count": 55,
   "id": "e0a3fae2",
   "metadata": {
    "scrolled": false
   },
   "outputs": [
    {
     "name": "stdout",
     "output_type": "stream",
     "text": [
      "Model: \"sequential_1\"\n",
      "_________________________________________________________________\n",
      " Layer (type)                Output Shape              Param #   \n",
      "=================================================================\n",
      " normalization_1 (Normalizat  (None, 47)               95        \n",
      " ion)                                                            \n",
      "                                                                 \n",
      " dense_2 (Dense)             (None, 35)                1680      \n",
      "                                                                 \n",
      " dense_3 (Dense)             (None, 1)                 36        \n",
      "                                                                 \n",
      "=================================================================\n",
      "Total params: 1,811\n",
      "Trainable params: 1,716\n",
      "Non-trainable params: 95\n",
      "_________________________________________________________________\n",
      "Epoch 1/35\n",
      "79/79 [==============================] - 1s 4ms/step - loss: 0.6334 - accuracy: 0.6204 - val_loss: 0.7810 - val_accuracy: 0.4416\n",
      "Epoch 2/35\n",
      "79/79 [==============================] - 0s 1ms/step - loss: 0.5340 - accuracy: 0.6892 - val_loss: 0.6957 - val_accuracy: 0.5584\n",
      "Epoch 3/35\n",
      "79/79 [==============================] - 0s 1ms/step - loss: 0.4697 - accuracy: 0.7656 - val_loss: 0.6193 - val_accuracy: 0.6904\n",
      "Epoch 4/35\n",
      "79/79 [==============================] - 0s 1ms/step - loss: 0.4234 - accuracy: 0.8166 - val_loss: 0.5608 - val_accuracy: 0.7868\n",
      "Epoch 5/35\n",
      "79/79 [==============================] - 0s 1ms/step - loss: 0.3889 - accuracy: 0.8522 - val_loss: 0.5219 - val_accuracy: 0.8122\n",
      "Epoch 6/35\n",
      "79/79 [==============================] - 0s 1ms/step - loss: 0.3624 - accuracy: 0.8739 - val_loss: 0.4861 - val_accuracy: 0.8223\n",
      "Epoch 7/35\n",
      "79/79 [==============================] - 0s 2ms/step - loss: 0.3407 - accuracy: 0.8866 - val_loss: 0.4562 - val_accuracy: 0.8376\n",
      "Epoch 8/35\n",
      "79/79 [==============================] - 0s 2ms/step - loss: 0.3229 - accuracy: 0.8904 - val_loss: 0.4269 - val_accuracy: 0.8680\n",
      "Epoch 9/35\n",
      "79/79 [==============================] - 0s 2ms/step - loss: 0.3081 - accuracy: 0.8981 - val_loss: 0.4055 - val_accuracy: 0.8731\n",
      "Epoch 10/35\n",
      "79/79 [==============================] - 0s 2ms/step - loss: 0.2953 - accuracy: 0.8981 - val_loss: 0.3919 - val_accuracy: 0.8782\n",
      "Epoch 11/35\n",
      "79/79 [==============================] - 0s 2ms/step - loss: 0.2844 - accuracy: 0.9019 - val_loss: 0.3739 - val_accuracy: 0.8782\n",
      "Epoch 12/35\n",
      "79/79 [==============================] - 0s 2ms/step - loss: 0.2747 - accuracy: 0.9045 - val_loss: 0.3626 - val_accuracy: 0.8832\n",
      "Epoch 13/35\n",
      "79/79 [==============================] - 0s 2ms/step - loss: 0.2659 - accuracy: 0.9096 - val_loss: 0.3507 - val_accuracy: 0.8985\n",
      "Epoch 14/35\n",
      "79/79 [==============================] - 0s 2ms/step - loss: 0.2580 - accuracy: 0.9108 - val_loss: 0.3388 - val_accuracy: 0.9086\n",
      "Epoch 15/35\n",
      "79/79 [==============================] - 0s 2ms/step - loss: 0.2508 - accuracy: 0.9146 - val_loss: 0.3300 - val_accuracy: 0.9086\n",
      "Epoch 16/35\n",
      "79/79 [==============================] - 0s 2ms/step - loss: 0.2442 - accuracy: 0.9172 - val_loss: 0.3241 - val_accuracy: 0.9137\n",
      "Epoch 17/35\n",
      "79/79 [==============================] - 0s 2ms/step - loss: 0.2382 - accuracy: 0.9159 - val_loss: 0.3148 - val_accuracy: 0.9137\n",
      "Epoch 18/35\n",
      "79/79 [==============================] - 0s 2ms/step - loss: 0.2326 - accuracy: 0.9146 - val_loss: 0.3105 - val_accuracy: 0.9137\n",
      "Epoch 19/35\n",
      "79/79 [==============================] - 0s 2ms/step - loss: 0.2273 - accuracy: 0.9159 - val_loss: 0.3051 - val_accuracy: 0.9239\n",
      "Epoch 20/35\n",
      "79/79 [==============================] - 0s 2ms/step - loss: 0.2224 - accuracy: 0.9197 - val_loss: 0.3024 - val_accuracy: 0.9239\n",
      "Epoch 21/35\n",
      "79/79 [==============================] - 0s 2ms/step - loss: 0.2177 - accuracy: 0.9172 - val_loss: 0.2996 - val_accuracy: 0.9239\n",
      "Epoch 22/35\n",
      "79/79 [==============================] - 0s 1ms/step - loss: 0.2135 - accuracy: 0.9197 - val_loss: 0.2938 - val_accuracy: 0.9239\n",
      "Epoch 23/35\n",
      "79/79 [==============================] - 0s 1ms/step - loss: 0.2095 - accuracy: 0.9236 - val_loss: 0.2885 - val_accuracy: 0.9289\n",
      "Epoch 24/35\n",
      "79/79 [==============================] - 0s 1ms/step - loss: 0.2056 - accuracy: 0.9236 - val_loss: 0.2808 - val_accuracy: 0.9289\n",
      "Epoch 25/35\n",
      "79/79 [==============================] - 0s 2ms/step - loss: 0.2019 - accuracy: 0.9274 - val_loss: 0.2815 - val_accuracy: 0.9289\n",
      "Epoch 26/35\n",
      "79/79 [==============================] - 0s 2ms/step - loss: 0.1985 - accuracy: 0.9248 - val_loss: 0.2749 - val_accuracy: 0.9340\n",
      "Epoch 27/35\n",
      "79/79 [==============================] - 0s 1ms/step - loss: 0.1951 - accuracy: 0.9287 - val_loss: 0.2738 - val_accuracy: 0.9340\n",
      "Epoch 28/35\n",
      "79/79 [==============================] - 0s 2ms/step - loss: 0.1917 - accuracy: 0.9312 - val_loss: 0.2674 - val_accuracy: 0.9340\n",
      "Epoch 29/35\n",
      "79/79 [==============================] - 0s 2ms/step - loss: 0.1885 - accuracy: 0.9274 - val_loss: 0.2693 - val_accuracy: 0.9340\n",
      "Epoch 30/35\n",
      "79/79 [==============================] - 0s 1ms/step - loss: 0.1855 - accuracy: 0.9350 - val_loss: 0.2640 - val_accuracy: 0.9340\n",
      "Epoch 31/35\n",
      "79/79 [==============================] - 0s 1ms/step - loss: 0.1825 - accuracy: 0.9363 - val_loss: 0.2587 - val_accuracy: 0.9340\n",
      "Epoch 32/35\n",
      "79/79 [==============================] - 0s 2ms/step - loss: 0.1797 - accuracy: 0.9363 - val_loss: 0.2579 - val_accuracy: 0.9340\n",
      "Epoch 33/35\n",
      "79/79 [==============================] - 0s 2ms/step - loss: 0.1770 - accuracy: 0.9376 - val_loss: 0.2564 - val_accuracy: 0.9340\n",
      "Epoch 34/35\n",
      "79/79 [==============================] - 0s 2ms/step - loss: 0.1744 - accuracy: 0.9401 - val_loss: 0.2520 - val_accuracy: 0.9340\n",
      "Epoch 35/35\n",
      "79/79 [==============================] - 0s 2ms/step - loss: 0.1719 - accuracy: 0.9414 - val_loss: 0.2494 - val_accuracy: 0.9340\n"
     ]
    }
   ],
   "source": [
    "model_2 = keras.Sequential([\n",
    "    normalizer_2,\n",
    "    layers.Dense(35, activation='relu'), #camada intermediaria # relu\n",
    "    layers.Dense(1, activation='sigmoid') #camada de saída entre 0 e 1 \n",
    "])\n",
    "\n",
    "model_2.summary()\n",
    "\n",
    "model_2.compile(optimizer='sgd',  # optimizer \"sgd\"\n",
    "              loss='binary_crossentropy', # duas classes na saida, 0 ou 1 binary_crossentropy\n",
    "              metrics=['accuracy'])\n",
    "\n",
    "history_2 = model_2.fit(\n",
    "    X_train_2, y_train_rede_2,\n",
    "    epochs=35,    \n",
    "    validation_split = 0.2,\n",
    "    batch_size=10, \n",
    "    verbose=1\n",
    "    )"
   ]
  },
  {
   "cell_type": "markdown",
   "id": "611a1db5",
   "metadata": {},
   "source": [
    "### Gráfico do Loss da Rede Neural Artificial"
   ]
  },
  {
   "cell_type": "code",
   "execution_count": 56,
   "id": "79b7b6ab",
   "metadata": {
    "scrolled": true
   },
   "outputs": [
    {
     "data": {
      "image/png": "[encoded data removed]",
      "text/plain": [
       "<Figure size 432x288 with 1 Axes>"
      ]
     },
     "metadata": {},
     "output_type": "display_data"
    }
   ],
   "source": [
    "plot_loss(history_2)"
   ]
  },
  {
   "cell_type": "markdown",
   "id": "90061e50",
   "metadata": {},
   "source": [
    "### Gráfico da Acurácia da Rede Neural Artificial"
   ]
  },
  {
   "cell_type": "code",
   "execution_count": 57,
   "id": "7510bedb",
   "metadata": {
    "scrolled": true
   },
   "outputs": [
    {
     "data": {
      "image/png": "[encoded data removed]",
      "text/plain": [
       "<Figure size 432x288 with 1 Axes>"
      ]
     },
     "metadata": {},
     "output_type": "display_data"
    }
   ],
   "source": [
    "plot_acc(history_2)"
   ]
  },
  {
   "cell_type": "markdown",
   "id": "b0b9f242",
   "metadata": {},
   "source": [
    "### Predição e Evaluate da Rede Neural Artificial"
   ]
  },
  {
   "cell_type": "code",
   "execution_count": 58,
   "id": "0b018042",
   "metadata": {
    "scrolled": true
   },
   "outputs": [
    {
     "name": "stdout",
     "output_type": "stream",
     "text": [
      "8/8 [==============================] - 0s 3ms/step - loss: 0.2903 - accuracy: 0.8879\n",
      "[4443.67822265625, 0.8597285151481628]\n"
     ]
    }
   ],
   "source": [
    "y_pred_rede = model_2.predict(X_test_2)\n",
    "score_2 = model_2.evaluate(X_test_2, y_test_rede_2,verbose=1)\n",
    "print(score)"
   ]
  },
  {
   "cell_type": "markdown",
   "id": "4e586a7d",
   "metadata": {},
   "source": [
    "### Aplicando as Métricas de Validação na Rede Neural"
   ]
  },
  {
   "cell_type": "code",
   "execution_count": 59,
   "id": "53ed92a6",
   "metadata": {},
   "outputs": [
    {
     "name": "stdout",
     "output_type": "stream",
     "text": [
      "A acuracia para o Modelo Rede Neural Classificadora é:\n",
      " 88.79310344827587\n",
      "O macro AVG no F1-Score para o Modelo Rede Neural Classificadora é:\n",
      " 76.4375\n",
      "Os F1-Score para Não Venderá e Venderá no Modelo Rede Neural Classificadora são:\n",
      " [93.5   59.375]\n"
     ]
    }
   ],
   "source": [
    "#Acurácia\n",
    "accuracy_2 = accuracy_score(np.round(y_pred_rede), y_test_rede_2)\n",
    "#Macro Averaging\n",
    "macro_avg_2 = f1_score(np.round(y_pred_rede), y_test_rede_2, average='macro')\n",
    "#F1-Score\n",
    "f1_2 = f1_score(np.round(y_pred_rede), y_test_rede_2, average= None)\n",
    "\n",
    "# Acurácia para a rede neural\n",
    "print (\"A acuracia para o Modelo Rede Neural Classificadora é:\\n\", accuracy_2*100)\n",
    "# Macro AVG no F1-score para a rede neural\n",
    "print (\"O macro AVG no F1-Score para o Modelo Rede Neural Classificadora é:\\n\", macro_avg_2*100)\n",
    "# F1- Score para a rede neural\n",
    "print (\"Os F1-Score para Não Venderá e Venderá no Modelo Rede Neural Classificadora são:\\n\", f1_2*100)"
   ]
  },
  {
   "cell_type": "markdown",
   "id": "9066449c",
   "metadata": {},
   "source": [
    "### Resultados finais dos métodos de classificação, sem passar os dados pela técnica do Bag-of-Words\n"
   ]
  },
  {
   "cell_type": "code",
   "execution_count": 60,
   "id": "57a653b9",
   "metadata": {},
   "outputs": [
    {
     "name": "stdout",
     "output_type": "stream",
     "text": [
      "Modelo XGBoost, métricas de validação para o conjunto de Teste:\n",
      "                   precision    recall  f1-score   support\n",
      "\n",
      "não venderá  0.0       0.93      0.96      0.95       203\n",
      "    venderá  1.0       0.65      0.52      0.58        29\n",
      "\n",
      "        accuracy                           0.91       232\n",
      "       macro avg       0.79      0.74      0.76       232\n",
      "    weighted avg       0.90      0.91      0.90       232\n",
      "\n",
      "Modelo LightGBM Classifier, métricas de validação para o conjunto de Teste:\n",
      "                   precision    recall  f1-score   support\n",
      "\n",
      "não venderá  0.0       0.92      0.97      0.94       203\n",
      "    venderá  1.0       0.65      0.45      0.53        29\n",
      "\n",
      "        accuracy                           0.90       232\n",
      "       macro avg       0.79      0.71      0.74       232\n",
      "    weighted avg       0.89      0.90      0.89       232\n",
      "\n",
      "Modelo Random Forest, métricas de validação para o conjunto de Teste:\n",
      "                   precision    recall  f1-score   support\n",
      "\n",
      "não venderá  0.0       0.93      0.93      0.93       203\n",
      "    venderá  1.0       0.48      0.48      0.48        29\n",
      "\n",
      "        accuracy                           0.87       232\n",
      "       macro avg       0.70      0.70      0.70       232\n",
      "    weighted avg       0.87      0.87      0.87       232\n",
      "\n",
      "A Acurácia para o Modelo de Rede Neural Classificadora é: 89.0 %\n",
      "A Macro Average de F1-Score para o Modelo de Rede Neural Classificadora é: 76.0 %\n",
      "Os F1-Score para Não Venderá e Venderá, no Modelo Rede Neural Classificadora são: 94.0 % 59.0 %\n"
     ]
    }
   ],
   "source": [
    "print (\"Modelo XGBoost, métricas de validação para o conjunto de Teste:\\n\", classification_report(y_test_2, y_pred_XGB, target_names=target_names))\n",
    "print (\"Modelo LightGBM Classifier, métricas de validação para o conjunto de Teste:\\n\", classification_report(y_test_2, y_pred_LGBM, target_names=target_names))\n",
    "print (\"Modelo Random Forest, métricas de validação para o conjunto de Teste:\\n\", classification_report(y_test_2, y_pred_clf, target_names=target_names))\n",
    "print (\"A Acurácia para o Modelo de Rede Neural Classificadora é:\", accuracy_2.round(2)*100,\"%\")\n",
    "print (\"A Macro Average de F1-Score para o Modelo de Rede Neural Classificadora é:\", macro_avg_2.round(2)*100,\"%\")\n",
    "print (\"Os F1-Score para Não Venderá e Venderá, no Modelo Rede Neural Classificadora são:\", f1_2[0].round(2)*100,\"%\",f1_2[1].round(2)*100,\"%\" )"
   ]
  },
  {
   "cell_type": "markdown",
   "id": "a326392e",
   "metadata": {},
   "source": [
    "### Calculando os Predict Proba dos modelos, usando duas amostras, para o Target \"vendeu = 0  e vendeu = 1\" - Sem aplicar a técnica Bag-of-Words"
   ]
  },
  {
   "cell_type": "code",
   "execution_count": 61,
   "id": "71d21505",
   "metadata": {},
   "outputs": [
    {
     "name": "stdout",
     "output_type": "stream",
     "text": [
      "Probabilidade do vendeu = 0, para o modelo XGBoost: [[0.99645287 0.00354714]]\n",
      "Verificando se a previsão vendeu = 0 , coincide com a saída real ['0.0']\n",
      "Probabilidade do vendeu = 1, para o modelo XGBoost: [[0.6490389  0.35096112]]\n",
      "Verificando se a previsão vendeu = 1 , coincide com a saída real ['1.0']\n",
      "\n",
      "Probabilidade do vendeu = 0, para o modelo LightGBM: [[9.99961477e-01 3.85228977e-05]]\n",
      "Verificando se a previsão vendeu = 0 , coincide com a saída real ['0.0']\n",
      "Probabilidade do vendeu = 1, para o modelo LightGBM: [[0.96427239 0.03572761]]\n",
      "Verificando se a previsão vendeu = 1 , coincide com a saída real ['1.0']\n",
      "\n",
      "Probabilidade do vendeu = 0, para o modelo Random Forest: [[0.93608178 0.06391822]]\n",
      "Verificando se a previsão vendeu = 0 , coincide com a saída real ['0.0']\n",
      "Probabilidade do vendeu = 1, para o modelo Random Forest: [[0.52910377 0.47089623]]\n",
      "Verificando se a previsão vendeu = 1 , coincide com a saída real ['1.0']\n"
     ]
    }
   ],
   "source": [
    "#inserindo o predict proba para cada método método. \"Pegando \"duas\" amostras do dataset, \n",
    "#uma positiva e uma negativa - uma amostra com a coluna vendeu = 0 e outra com coluna vendeu=1\"\n",
    "\n",
    "# >> Predict Proba no XGBOOST:\n",
    "\n",
    "# predizendo em uma determinada posição do X_teste, onde \"vendeu\" = 0:\n",
    "y_pred_predict0_xgboost = xgm2.predict_proba([X_test_2[0,:]])\n",
    "# probabilidade do vendeu = 0\n",
    "print('Probabilidade do vendeu = 0, para o modelo XGBoost:',y_pred_predict0_xgboost)\n",
    "#verificando se a coluna vendeu na posição 0 esta iagual a 0\n",
    "print('Verificando se a previsão vendeu = 0 , coincide com a saída real',y_test_2.values[0])\n",
    "\n",
    "# predizendo em uma determinada posição do X_teste, onde \"vendeu\" = 1:\n",
    "y_pred_predict1_xgboost = xgm2.predict_proba([X_test_2[60,:]])\n",
    "# probabilidade do vendeu = 1\n",
    "print('Probabilidade do vendeu = 1, para o modelo XGBoost:',y_pred_predict1_xgboost)\n",
    "#verificando se a coluna vendeu na posição 60 esta igual a 1\n",
    "print('Verificando se a previsão vendeu = 1 , coincide com a saída real',y_test_2.values[60])\n",
    "\n",
    "# >> Predict Proba no lightGBM:\n",
    "\n",
    "# predizendo em uma determinada posição do X_teste, onde \"vendeu\" = 0:\n",
    "y_pred_predict0_lightgmb = LGBM_2.predict_proba([X_test_2[0,:]])\n",
    "# probabilidade do vendeu = 0\n",
    "print('\\nProbabilidade do vendeu = 0, para o modelo LightGBM:',y_pred_predict0_lightgmb)\n",
    "#verificando se a coluna vendeu na posição 0 esta iagual a 0\n",
    "print('Verificando se a previsão vendeu = 0 , coincide com a saída real',y_test_2.values[0])\n",
    "\n",
    "#predizendo em uma determinada posição do X_teste, onde \"vendeu\" = 1:\n",
    "y_pred_predict1_lightgmb = LGBM_2.predict_proba([X_test_2[60,:]])\n",
    "# probabilidade do vendeu = 1\n",
    "print('Probabilidade do vendeu = 1, para o modelo LightGBM:',y_pred_predict1_lightgmb)\n",
    "#verificando se a coluna vendeu na posição 60 esta igual a 1\n",
    "print('Verificando se a previsão vendeu = 1 , coincide com a saída real',y_test_2.values[60])\n",
    "\n",
    "# >> Predict Proba no Random Forest:\n",
    "\n",
    "# predizendo em uma determinada posição do X_teste, onde \"vendeu\" = 0:\n",
    "y_pred_predict0_clf = clf_2.predict_proba([X_test_2[0,:]])\n",
    "# probabilidade do vendeu = 0\n",
    "print('\\nProbabilidade do vendeu = 0, para o modelo Random Forest:',y_pred_predict0_clf)\n",
    "#verificando se a coluna vendeu na posição 0 esta iagual a 0\n",
    "print('Verificando se a previsão vendeu = 0 , coincide com a saída real',y_test_2.values[0])\n",
    "\n",
    "#predizendo em uma determinada posição do X_teste, onde \"vendeu\" = 1:\n",
    "y_pred_predict1_clf = clf_2.predict_proba([X_test_2[60,:]])\n",
    "# probabilidade do vendeu = 1\n",
    "print('Probabilidade do vendeu = 1, para o modelo Random Forest:',y_pred_predict1_clf)\n",
    "#verificando se a coluna vendeu na posição 60 esta igual a 1\n",
    "print('Verificando se a previsão vendeu = 1 , coincide com a saída real',y_test_2.values[60])\n",
    "\n",
    "#primeira coluna é a probabilidade de ser 0\n",
    "#segunda coluna é a probabilidade de ser 1"
   ]
  },
  {
   "cell_type": "markdown",
   "id": "61b7142f",
   "metadata": {},
   "source": [
    "## Gráficos"
   ]
  },
  {
   "cell_type": "code",
   "execution_count": 62,
   "id": "9ee17869",
   "metadata": {},
   "outputs": [],
   "source": [
    "#parâmetros dos gráficos\n",
    "sns.set_style(\"whitegrid\", {\"grid.color\": \".6\", \"grid.linestyle\": \":\"})\n",
    "rcParams['figure.figsize'] = 11,5"
   ]
  },
  {
   "cell_type": "code",
   "execution_count": 63,
   "id": "64ddc4e1",
   "metadata": {},
   "outputs": [],
   "source": [
    "#Função para ajustar as legendas do gráfico\n",
    "def ajusta_df_grafico(df):\n",
    "    dataAux = df.copy(deep=True)\n",
    "    filter = (dataAux[\"data\"] >= data_ini) & (dataAux[\"data\"] <= data_fin) \n",
    "    dataAux['vendeu'] = dataAux['vendeu'].str.replace('1.0','Sim')\n",
    "    dataAux['vendeu'] = dataAux['vendeu'].str.replace('0.0','Não')\n",
    "    dataAux.rename(columns={\"vendeu\":\"Venda Realizada\"}, inplace=True)\n",
    "    dataAux = dataAux.where(filter)\n",
    "    return dataAux"
   ]
  },
  {
   "cell_type": "markdown",
   "id": "d41d1cc1",
   "metadata": {},
   "source": [
    "### Quantidade de Fechamentos/Clientes por Mês"
   ]
  },
  {
   "cell_type": "code",
   "execution_count": 64,
   "id": "13385e83",
   "metadata": {},
   "outputs": [
    {
     "data": {
      "image/png": "[encoded data removed]",
      "text/plain": [
       "<Figure size 792x360 with 1 Axes>"
      ]
     },
     "metadata": {},
     "output_type": "display_data"
    }
   ],
   "source": [
    "dataAux = df.copy(deep=True)\n",
    "dataAux = dataAux.sort_values(by='ano_mes', ascending=True)\n",
    "dataAux['vendeu'] = dataAux['vendeu'].str.replace('1.0','Sim')\n",
    "dataAux['vendeu'] = dataAux['vendeu'].str.replace('0.0','Não')\n",
    "\n",
    "y = sns.histplot(data=dataAux, x=\"ano_mes\", hue=\"vendeu\", multiple=\"dodge\", shrink=.8)\n",
    "y.bar_label(y.containers[1])\n",
    "y.bar_label(y.containers[0])\n",
    "plt.show()"
   ]
  },
  {
   "cell_type": "markdown",
   "id": "87dc8efd",
   "metadata": {},
   "source": [
    "### Primeiro contato dos leads: Online x Presencial"
   ]
  },
  {
   "cell_type": "code",
   "execution_count": 65,
   "id": "154b11c1",
   "metadata": {},
   "outputs": [
    {
     "data": {
      "image/png": "[encoded data removed]",
      "text/plain": [
       "<Figure size 792x360 with 1 Axes>"
      ]
     },
     "metadata": {},
     "output_type": "display_data"
    }
   ],
   "source": [
    "dataAux = df.copy(deep=True)\n",
    "dataAux['como conheceu'] = dataAux['como conheceu'].str.replace('passagem frente da loja', 'presencial')\n",
    "dataAux['como conheceu'] = dataAux['como conheceu'].str.replace('google', 'on line')\n",
    "dataAux['como conheceu'] = dataAux['como conheceu'].str.replace('landing page', 'on line')\n",
    "dataAux['como conheceu'] = dataAux['como conheceu'].str.replace('instagram', 'on line')\n",
    "dataAux['como conheceu'] = dataAux['como conheceu'].str.replace('facebook', 'on line')\n",
    "dataAux['como conheceu'] = dataAux['como conheceu'].str.replace('whatsapp', 'on line')\n",
    "dataAux['como conheceu'] = dataAux['como conheceu'].str.replace('telefone', 'on line')\n",
    "dataAux['como conheceu'] = dataAux['como conheceu'].str.replace('loja', 'presencial')\n",
    "dataAux['vendeu'] = dataAux['vendeu'].str.replace('1.0','Sim')\n",
    "dataAux['vendeu'] = dataAux['vendeu'].str.replace('0.0','Não')\n",
    "\n",
    "y = sns.histplot(data=dataAux, x=\"como conheceu\", hue=\"vendeu\",  multiple=\"dodge\", shrink=.8)\n",
    "y.bar_label(y.containers[1])\n",
    "y.bar_label(y.containers[0])\n",
    "plt.show()"
   ]
  },
  {
   "cell_type": "markdown",
   "id": "3720820c",
   "metadata": {},
   "source": [
    "### Definindo um período para as consultas"
   ]
  },
  {
   "cell_type": "code",
   "execution_count": 66,
   "id": "2ea73d91",
   "metadata": {},
   "outputs": [],
   "source": [
    "data_ini = \"2022-03-20\"\n",
    "data_fin = \"2022-04-19\""
   ]
  },
  {
   "cell_type": "markdown",
   "id": "53d242c0",
   "metadata": {},
   "source": [
    "### Quantidade de Fechamentos/Clientes por Dia da Semana"
   ]
  },
  {
   "cell_type": "code",
   "execution_count": 67,
   "id": "0d9ae6e7",
   "metadata": {},
   "outputs": [
    {
     "data": {
      "image/png": "[encoded data removed]",
      "text/plain": [
       "<Figure size 792x360 with 1 Axes>"
      ]
     },
     "metadata": {},
     "output_type": "display_data"
    }
   ],
   "source": [
    "dataAux = ajusta_df_grafico(df)\n",
    "y = sns.histplot(data=dataAux, x=\"dia_semana\", hue=\"Venda Realizada\", multiple=\"dodge\",shrink=.8)\n",
    "y.bar_label(y.containers[1])\n",
    "y.bar_label(y.containers[0])\n",
    "plt.show()"
   ]
  },
  {
   "cell_type": "markdown",
   "id": "314a1995",
   "metadata": {},
   "source": [
    "### Quantidade de Fechamentos/Clientes por Gênero"
   ]
  },
  {
   "cell_type": "code",
   "execution_count": 68,
   "id": "581c4bdc",
   "metadata": {
    "scrolled": true
   },
   "outputs": [
    {
     "data": {
      "image/png": "[encoded data removed]",
      "text/plain": [
       "<Figure size 792x360 with 1 Axes>"
      ]
     },
     "metadata": {},
     "output_type": "display_data"
    }
   ],
   "source": [
    "dataAux = ajusta_df_grafico(df)\n",
    "y = sns.histplot(data=dataAux, x=\"sexo\", hue=\"Venda Realizada\",multiple=\"dodge\", shrink=.8)\n",
    "y.bar_label(y.containers[1])\n",
    "y.bar_label(y.containers[0])\n",
    "plt.show()"
   ]
  },
  {
   "cell_type": "markdown",
   "id": "eec9d817",
   "metadata": {},
   "source": [
    "### Quantidade de Clientes por Tipo de atendimento"
   ]
  },
  {
   "cell_type": "code",
   "execution_count": 69,
   "id": "121f5a19",
   "metadata": {},
   "outputs": [
    {
     "data": {
      "image/png": "[encoded data removed]",
      "text/plain": [
       "<Figure size 792x360 with 1 Axes>"
      ]
     },
     "metadata": {},
     "output_type": "display_data"
    }
   ],
   "source": [
    "#Configurando o Gráfico de Setores\n",
    "dataAux = ajusta_df_grafico(df)\n",
    "df_graf = dataAux.groupby(['tipo']).count()\n",
    "df_graf = df_graf.get([\"codigo\"])\n",
    "\n",
    "# Gráfico de setores, onde as fatias serão ordenadas e plotadas\n",
    "labels = df_graf.index.values\n",
    "sizes = df_graf.get(\"codigo\").values\n",
    "fig1, ax1 = plt.subplots()\n",
    "ax1.pie(sizes, labels=labels, autopct='%1.1f%%', shadow=False, startangle=90)  # gráfico de setores\n",
    "ax1.axis('equal')   # Proporção de aspecto igual garante que a torta seja desenhada como um círculo.\n",
    "plt.show()"
   ]
  },
  {
   "cell_type": "markdown",
   "id": "40e11b92",
   "metadata": {},
   "source": [
    "### Quantidade de Clientes por Primeiro Contato"
   ]
  },
  {
   "cell_type": "code",
   "execution_count": 70,
   "id": "79bc4ced",
   "metadata": {},
   "outputs": [
    {
     "data": {
      "image/png": "[encoded data removed]",
      "text/plain": [
       "<Figure size 792x360 with 1 Axes>"
      ]
     },
     "metadata": {},
     "output_type": "display_data"
    }
   ],
   "source": [
    "#Configurando o gráfico de Setores\n",
    "dataAux = ajusta_df_grafico(df)\n",
    "df_graf = dataAux.groupby(['como conheceu']).count()\n",
    "df_graf = df_graf.get([\"codigo\"])\n",
    "\n",
    "# Gráfico de setores, onde as fatias serão ordenadas e plotadas\n",
    "labels = df_graf.index.values\n",
    "sizes = df_graf.get(\"codigo\").values\n",
    "fig1, ax1 = plt.subplots()\n",
    "ax1.pie(sizes, labels=labels, autopct='%1.1f%%', shadow=False, startangle=90)  # gráfico de setores\n",
    "ax1.axis('equal')   # Proporção de aspecto igual garante que a torta seja desenhada como um círculo.\n",
    "plt.show()"
   ]
  },
  {
   "cell_type": "markdown",
   "id": "9f53d710",
   "metadata": {},
   "source": [
    "### Clientes por dia"
   ]
  },
  {
   "cell_type": "code",
   "execution_count": 71,
   "id": "609897b6",
   "metadata": {},
   "outputs": [
    {
     "data": {
      "image/png": "[encoded data removed]",
      "text/plain": [
       "<Figure size 792x360 with 1 Axes>"
      ]
     },
     "metadata": {},
     "output_type": "display_data"
    }
   ],
   "source": [
    "#Configurando o gráfico de Linha\n",
    "dataAux = ajusta_df_grafico(df)\n",
    "df_graf = dataAux.groupby(['data']).count()\n",
    "df_graf = df_graf.get([\"codigo\"])\n",
    "df_graf\n",
    "\n",
    "labels = df_graf.index.values\n",
    "sizes = df_graf.get(\"codigo\").values\n",
    "sns.set_style(\"whitegrid\", {\"grid.color\": \".8\"})\n",
    "\n",
    "ax = sns.lineplot(labels,sizes)\n",
    "ax.bar_label(y.containers[1])\n",
    "\n",
    "plt.xticks(rotation=90,horizontalalignment='right',fontweight='light')\n",
    "locator = mdates.DayLocator(interval=1)\n",
    "\n",
    "ax.xaxis.set_major_locator(locator)\n",
    "plt.show()"
   ]
  },
  {
   "cell_type": "markdown",
   "id": "7cf4b859",
   "metadata": {},
   "source": [
    "### Fechamento Presencial e Online"
   ]
  },
  {
   "cell_type": "code",
   "execution_count": 72,
   "id": "f9602f16",
   "metadata": {
    "scrolled": true
   },
   "outputs": [
    {
     "data": {
      "image/png": "[encoded data removed]",
      "text/plain": [
       "<Figure size 792x360 with 1 Axes>"
      ]
     },
     "metadata": {},
     "output_type": "display_data"
    }
   ],
   "source": [
    "dataAux = ajusta_df_grafico(df)\n",
    "y = sns.histplot(data=dataAux, x=\"tipo\", hue=\"Venda Realizada\",multiple=\"dodge\", shrink=.8)\n",
    "y.bar_label(y.containers[1])\n",
    "y.bar_label(y.containers[0])\n",
    "plt.show()"
   ]
  },
  {
   "cell_type": "markdown",
   "id": "64536397",
   "metadata": {},
   "source": [
    "### Orçamentos sem Venda e com Venda"
   ]
  },
  {
   "cell_type": "code",
   "execution_count": 73,
   "id": "3a051841",
   "metadata": {},
   "outputs": [
    {
     "data": {
      "image/png": "[encoded data removed]",
      "text/plain": [
       "<Figure size 792x360 with 1 Axes>"
      ]
     },
     "metadata": {},
     "output_type": "display_data"
    }
   ],
   "source": [
    "dataAux = ajusta_df_grafico(df)\n",
    "y = sns.histplot(data=dataAux, x=\"orcamento\", hue=\"Venda Realizada\",multiple=\"dodge\", shrink=.8)\n",
    "y.bar_label(y.containers[1])\n",
    "y.bar_label(y.containers[0])\n",
    "plt.show()"
   ]
  }
 ],
 "metadata": {
  "kernelspec": {
   "display_name": "Python 3",
   "language": "python",
   "name": "python3"
  },
  "language_info": {
   "codemirror_mode": {
    "name": "ipython",
    "version": 3
   },
   "file_extension": ".py",
   "mimetype": "text/x-python",
   "name": "python",
   "nbconvert_exporter": "python",
   "pygments_lexer": "ipython3",
   "version": "3.9.13"
  },
  "vscode": {
   "interpreter": {
    "hash": "75134c62741d242f95341494b624cf3919daaefd42f11ecc71f941421531a46d"
   }
  }
 },
 "nbformat": 4,
 "nbformat_minor": 5
}
